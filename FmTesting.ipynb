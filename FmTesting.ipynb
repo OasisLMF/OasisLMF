{
 "cells": [
  {
   "cell_type": "markdown",
   "metadata": {},
   "source": [
    "# Oasis FM Testing Tool\n",
    "\n",
    "This notebook allows example insurance structures to be input in OED format and ran against the development version of the Oasis finanical engine. \n",
    "\n",
    "## Included\n",
    "\n",
    "The following terminology is defined in OED. Please visit https://github.com/Simplitium/OED for more information.\n",
    "\n"
   ]
  },
  {
   "cell_type": "markdown",
   "metadata": {},
   "source": [
    "## Input files \n",
    "\n",
    "Files must be named the following:\n",
    "\n",
    "* account.csv\n",
    "* location.csv\n",
    "* ri_info.csv\n",
    "* ri_scope.csv\n"
   ]
  },
  {
   "cell_type": "code",
   "execution_count": null,
   "metadata": {},
   "outputs": [],
   "source": [
    "# Notebook and Python setup\n",
    "%config IPCompleter.greedy=True\n",
    "\n",
    "# Standard Python libraries\n",
    "import io\n",
    "import json\n",
    "import os\n",
    "import shutil\n",
    "\n",
    "# 3rd party Python libraries\n",
    "import fm_testing_tool.widgets as widgets\n",
    "import fm_testing_tool.functions as functions\n",
    "import pandas as pd\n",
    "from IPython.display import Markdown, display, Javascript\n",
    "from oasislmf.manager import OasisManager\n",
    "\n"
   ]
  },
  {
   "cell_type": "code",
   "execution_count": null,
   "metadata": {},
   "outputs": [],
   "source": [
    "# Upload local files into the Notebook (Optional)\n",
    "\n",
    "widgets.file_uploader('./validation/examples/uploaded')"
   ]
  },
  {
   "cell_type": "code",
   "execution_count": null,
   "metadata": {},
   "outputs": [],
   "source": [
    "# Select a validation example to run, the default value points the file upload location\n",
    "# If a variables shows a 'None' results then the s\n",
    "source_exposure = {}\n",
    "widgets.select_source_dir(source_exposure, examples_dir='./validation/examples')"
   ]
  },
  {
   "cell_type": "code",
   "execution_count": null,
   "metadata": {
    "scrolled": true
   },
   "outputs": [],
   "source": [
    "# Running this cell will execute the entire notebook \n",
    "display(Javascript(\"Jupyter.notebook.execute_cells_below()\"))"
   ]
  },
  {
   "cell_type": "markdown",
   "metadata": {},
   "source": [
    "## Set Test Parameters "
   ]
  },
  {
   "cell_type": "code",
   "execution_count": null,
   "metadata": {},
   "outputs": [],
   "source": [
    "## Edit test Params \n",
    "number_of_subperils = 1\n",
    "supported_coverage_types = [1,2] # 1 = buildings, 2 = other, 3 = content, 4 = business interruption\n",
    "loss_factors = [1, 0.6]\n",
    "alloc_il = 2\n",
    "alloc_ri = 3\n",
    "output_level = 'loc' # valid options are 'item', 'loc', 'pol', 'acc', 'port'"
   ]
  },
  {
   "cell_type": "code",
   "execution_count": null,
   "metadata": {},
   "outputs": [],
   "source": [
    "# Load source files from selected test case \n",
    "location_df =  functions.load_df(source_exposure['location_path'], required_file='location.csv')\n",
    "account_df =  functions.load_df(source_exposure['account_path'], required_file='account.csv')\n",
    "ri_info_df =  functions.load_df(source_exposure['ri_info_path'])\n",
    "ri_scope_df =  functions.load_df(source_exposure['ri_scope_path'])"
   ]
  },
  {
   "cell_type": "code",
   "execution_count": null,
   "metadata": {},
   "outputs": [],
   "source": [
    "# View/edit the location data.\n",
    "location_grid = widgets.show_df(location_df)\n",
    "location_grid"
   ]
  },
  {
   "cell_type": "code",
   "execution_count": null,
   "metadata": {
    "scrolled": true
   },
   "outputs": [],
   "source": [
    "# View/edit the account data. \n",
    "account_grid = widgets.show_df(account_df)\n",
    "account_grid"
   ]
  },
  {
   "cell_type": "code",
   "execution_count": null,
   "metadata": {},
   "outputs": [],
   "source": [
    "# View/edit the ri_info data (Optinal). \n",
    "if ri_info_df is not None:\n",
    "    ri_info_grid = widgets.show_df(ri_info_df)\n",
    "    ri_info_grid"
   ]
  },
  {
   "cell_type": "code",
   "execution_count": null,
   "metadata": {},
   "outputs": [],
   "source": [
    "# View/edit the ri_scope data (Optinal). \n",
    "if ri_scope_df is not None:\n",
    "    ri_scope_grid = widgets.show_df(ri_scope_df)\n",
    "    ri_scope_grid"
   ]
  },
  {
   "cell_type": "code",
   "execution_count": null,
   "metadata": {
    "scrolled": true
   },
   "outputs": [],
   "source": [
    "# Store exposure and create run dir \n",
    "run_dir = os.path.join('runs', os.path.basename(source_exposure['source_dir']))\n",
    "os.makedirs(run_dir, exist_ok=True)\n",
    "\n",
    "# Pick up any edits for required files in the grid before running the analysis\n",
    "location_df = location_grid.get_changed_df()\n",
    "loc_csv = os.path.join(run_dir, \"location.csv\")\n",
    "location_df.to_csv(path_or_buf=loc_csv, encoding='utf-8', index=False)\n",
    "\n",
    "account_df = account_grid.get_changed_df()\n",
    "acc_csv = os.path.join(run_dir, \"account.csv\")\n",
    "account_df.to_csv(path_or_buf=acc_csv, encoding='utf-8', index=False)\n",
    " \n",
    "\n",
    "# Pick up any edits ri file edits if there \n",
    "if (ri_scope_df is not None) and (ri_info_df is not None):\n",
    "    ri_info_df = ri_info_grid.get_changed_df()\n",
    "    info_csv = os.path.join(run_dir, \"ri_info.csv\")\n",
    "    ri_info_df.to_csv(path_or_buf=info_csv, encoding='utf-8', index=False)\n",
    "    \n",
    "    ri_scope_df = ri_scope_grid.get_changed_df()\n",
    "    scope_csv = os.path.join(run_dir, \"ri_scope.csv\")\n",
    "    ri_scope_df.to_csv(path_or_buf=scope_csv, encoding='utf-8', index=False)\n",
    "else:\n",
    "    info_csv = None\n",
    "    scope_csv = None"
   ]
  },
  {
   "cell_type": "code",
   "execution_count": null,
   "metadata": {
    "scrolled": true
   },
   "outputs": [],
   "source": [
    "# Generate keys file\n",
    "keys_csv = os.path.join(run_dir, \"keys.csv\")\n",
    "OasisManager().generate_keys_deterministic(\n",
    "    oed_location_csv=loc_csv,\n",
    "    keys_data_csv=keys_csv,\n",
    "    supported_oed_coverage_types=supported_coverage_types,\n",
    "    num_subperils=number_of_subperils,\n",
    ")\n",
    "\n",
    "keys_df = functions.load_df(keys_csv, required_file='keys.csv') \n",
    "keys_grid = widgets.show_df(keys_df)\n",
    "keys_grid"
   ]
  },
  {
   "cell_type": "markdown",
   "metadata": {},
   "source": [
    "## Generate Oasis files"
   ]
  },
  {
   "cell_type": "code",
   "execution_count": null,
   "metadata": {},
   "outputs": [],
   "source": [
    "## Generate Oasis files \n",
    "print(run_dir)\n",
    "print(loc_csv)\n",
    "\n",
    "# Pick up any edits in the Keys data \n",
    "keys_df = keys_grid.get_changed_df()\n",
    "keys_df.to_csv(path_or_buf=keys_csv, encoding='utf-8', index=False)\n",
    "\n",
    "# Start Oasis files generation\n",
    "oasis_files = OasisManager().generate_files(\n",
    "    oasis_files_dir=run_dir,\n",
    "    oed_location_csv=loc_csv,\n",
    "    oed_accounts_csv=acc_csv,\n",
    "    oed_info_csv=info_csv,\n",
    "    oed_scope_csv=scope_csv,\n",
    "    keys_data_csv=keys_csv,\n",
    "    disable_summarise_exposure=True,\n",
    ")"
   ]
  },
  {
   "cell_type": "code",
   "execution_count": null,
   "metadata": {},
   "outputs": [],
   "source": [
    "# Show FM items \n",
    "fm_file = 'items'\n",
    "display(Markdown(f'### {fm_file}.csv'))\n",
    "widgets.show_df(functions.load_df(oasis_files[fm_file]))\n"
   ]
  },
  {
   "cell_type": "code",
   "execution_count": null,
   "metadata": {},
   "outputs": [],
   "source": [
    "# Show FM coverages \n",
    "fm_file = 'coverages'\n",
    "display(Markdown(f'### {fm_file}.csv'))\n",
    "widgets.show_df(functions.load_df(oasis_files[fm_file]))\n"
   ]
  },
  {
   "cell_type": "markdown",
   "metadata": {},
   "source": [
    "## Direct Insurance files  "
   ]
  },
  {
   "cell_type": "code",
   "execution_count": null,
   "metadata": {
    "scrolled": true
   },
   "outputs": [],
   "source": [
    "# Show FM summary map \n",
    "fm_file = 'fm_summary_map'\n",
    "display(Markdown(f'### {fm_file}.csv'))\n",
    "#widgets.show_df(functions.load_df(os.path.join(run_dir, 'gul_summary_map.csv')))\n",
    "fm_summary_map = functions.load_df(os.path.join(run_dir, 'fm_summary_map.csv'))\n",
    "widgets.show_df(fm_summary_map)\n"
   ]
  },
  {
   "cell_type": "code",
   "execution_count": null,
   "metadata": {
    "scrolled": true
   },
   "outputs": [],
   "source": [
    "# Show FM fm_programme \n",
    "fm_file = 'fm_programme'\n",
    "display(Markdown(f'### {fm_file}.csv'))\n",
    "fm_programme = functions.load_df(oasis_files[fm_file])\n",
    "widgets.show_df(fm_programme)\n",
    "\n"
   ]
  },
  {
   "cell_type": "code",
   "execution_count": null,
   "metadata": {},
   "outputs": [],
   "source": [
    "# Show FM fm_profile \n",
    "fm_file = 'fm_profile'\n",
    "display(Markdown(f'### {fm_file}.csv'))\n",
    "fm_profile = functions.load_df(oasis_files[fm_file])\n",
    "widgets.show_df(fm_profile)\n"
   ]
  },
  {
   "cell_type": "code",
   "execution_count": null,
   "metadata": {
    "scrolled": true
   },
   "outputs": [],
   "source": [
    "# Show FM fm_policytc \n",
    "fm_file = 'fm_policytc'\n",
    "display(Markdown(f'### {fm_file}.csv'))\n",
    "fm_policytc = functions.load_df(oasis_files[fm_file])\n",
    "widgets.show_df(fm_policytc)\n"
   ]
  },
  {
   "cell_type": "code",
   "execution_count": null,
   "metadata": {},
   "outputs": [],
   "source": [
    "import anytree\n",
    "from anytree.search import find  \n",
    "import collections\n",
    "\n",
    "level_ids = sorted(list(fm_programme.level_id.unique()), reverse=True)\n",
    "root = anytree.Node('Insured Loss', agg_id=1, level_id=max(level_ids)+1, policy_tc=None)\n",
    "\n",
    "\n",
    "\n",
    "def get_policy_tc(agg_id, level_id):\n",
    "    PolicyTuple = collections.namedtuple('PolicyTuple','layer_id policytc_id agg_id calc_rule')\n",
    "    policytc = fm_policytc.loc[\n",
    "        (fm_policytc['agg_id'] == agg_id) & (fm_policytc['level_id'] == level_id)\n",
    "    ]\n",
    "\n",
    "    policy_list = []\n",
    "    for _, policy in policytc.iterrows():\n",
    "        policy_list.append(\n",
    "            PolicyTuple(\n",
    "                layer_id=policy.layer_id,\n",
    "                policytc_id=policy.policytc_id,\n",
    "                agg_id=policy.agg_id,\n",
    "                calc_rule=fm_profile.loc[fm_profile.policytc_id == policy.policytc_id].calcrule_id.item()\n",
    "            )\n",
    "        )   \n",
    "    return len(policytc), policy_list\n",
    "        \n",
    "\n",
    "\n",
    "for level in level_ids:\n",
    "    agg_id_idxs = list(fm_programme[fm_programme.level_id == level].index)\n",
    "\n",
    "    for node_idx in agg_id_idxs:\n",
    "        node_info = fm_programme.iloc[node_idx] \n",
    "        layer_max, policy_list = get_policy_tc(node_info.from_agg_id, node_info.level_id)\n",
    "\n",
    "        # Set parent node as root or find based on level/agg ids\n",
    "        if level == max(level_ids):\n",
    "            parent_node = root\n",
    "        else:\n",
    "            parent_node = find(root, filter_=lambda node: node.level_id == level+1 and node.agg_id == node_info.to_agg_id)\n",
    "        \n",
    "        # Set node names based on attrs in FM files \n",
    "        if level >= 3:\n",
    "            node_name = \"policy term {} \\nlevel: {}\".format(\n",
    "                node_info.from_agg_id,\n",
    "                node_info.level_id\n",
    "            )\n",
    "        elif level == 2:\n",
    "            node_name = \"loc term {} \".format(node_info.from_agg_id)\n",
    "        else:\n",
    "            node_name = \"cov term {}\".format(node_info.from_agg_id) \n",
    "        for policy in policy_list:\n",
    "            node_name += \"\\n\\nlayer_id: {} \\n policytc_id: {} \\ncalc_rule: {}\".format(\n",
    "                policy.layer_id,\n",
    "                policy.policytc_id,\n",
    "                policy.calc_rule,\n",
    "            )     \n",
    "        \n",
    "        # Create Node in FM tree\n",
    "        node = anytree.Node(\n",
    "                node_name,\n",
    "                agg_id=node_info.from_agg_id,\n",
    "                level_id=level,\n",
    "                parent=parent_node,\n",
    "                layer_max=layer_max,\n",
    "                policy_tc=policy_list,\n",
    "        )\n",
    "\n",
    "# Add item level data \n",
    "cov_agg_idx = list(fm_summary_map[['agg_id']].drop_duplicates().index)\n",
    "for cov in cov_agg_idx:\n",
    "    cov_info = fm_summary_map.iloc[cov]\n",
    "    parent_node = find(root, filter_=lambda node: node.level_id == 1 and node.agg_id == cov_info.agg_id)\n",
    "    \n",
    "    node_name = \"\\n\".join([\n",
    "       \"locnumber: {}\".format(cov_info.locnumber),\n",
    "        \"accnumber: {}\".format(cov_info.accnumber),\n",
    "        \"polnumber: {}\".format(cov_info.polnumber),\n",
    "        \"cov_type: {}\".format(cov_info.coverage_type_id),\n",
    "        \"peril_id: {}\".format(cov_info.peril_id),\n",
    "        \"tiv: {}\".format(cov_info.tiv),\n",
    "    ])\n",
    "    \n",
    "    node = anytree.Node(\n",
    "        node_name,\n",
    "        agg_id=cov_info.agg_id,\n",
    "        level_id=0,\n",
    "        parent=parent_node,\n",
    "        locnumber=cov_info.locnumber,\n",
    "        accnumber=cov_info.accnumber,\n",
    "        polnumber=cov_info.polnumber,\n",
    "        portnumber=cov_info.polnumber,\n",
    "        tiv=cov_info.tiv,\n",
    "        coverage_id=cov_info.coverage_id,\n",
    "        coverage_type=cov_info.coverage_type_id,\n",
    "        peril_id=cov_info.peril_id,\n",
    "    )\n",
    "          "
   ]
  },
  {
   "cell_type": "code",
   "execution_count": null,
   "metadata": {},
   "outputs": [],
   "source": [
    "#from anytree.dotexport import RenderTreeGraph\n",
    "#RenderTreeGraph(root).to_picture(\"tree.png\")\n",
    "def format_box(node):\n",
    "    # https://graphviz.org/doc/info/shapes.html\n",
    "    if node.level_id == 0:\n",
    "        # Item Level Node\n",
    "        return \"fixedsize=false, shape=rect, fillcolor=lightgrey, style=filled\"\n",
    "    else:\n",
    "        if not node.policy_tc:\n",
    "            # Error? missing policy_tc entry for this Node \n",
    "            return \"fixedsize=false, shape=ellipse, fillcolor=pink, style=filled\"\n",
    "            \n",
    "        elif len(node.policy_tc) > 1:\n",
    "            # Node with multiple layers\n",
    "            return \"fixedsize=false, shape=rect, fillcolor=orange, style=filled\"\n",
    "        else:    \n",
    "            # Cov or loc nodes \n",
    "            return \"fixedsize=false, shape=ellipse, fillcolor=lightblue, style=filled\"\n",
    "\n",
    "def layered_edge(node, child):\n",
    "    # https://anytree.readthedocs.io/en/latest/tricks/weightededges.html\n",
    "    if hasattr(child, 'layer_max'):\n",
    "        if child.layer_max > 1:\n",
    "            return 'dir=back, style=bold, label=\" {} Layers\"'.format(child.layer_max)    \n",
    "    return \"dir=back\"\n",
    "        \n",
    "        \n",
    "from anytree.exporter import DotExporter\n",
    "dot_data = DotExporter(\n",
    "    root, \n",
    "    edgeattrfunc=layered_edge,\n",
    "    nodeattrfunc=format_box,\n",
    ")\n",
    "\n",
    "#print([l for l in dot_data])\n",
    "\n",
    "dot_data.to_picture('tree.png')\n",
    "from IPython.display import Image\n",
    "display(Markdown(f'### FM calc Tree'))\n",
    "Image(filename='tree.png') "
   ]
  },
  {
   "cell_type": "markdown",
   "metadata": {},
   "source": [
    "## Reinsurance files  "
   ]
  },
  {
   "cell_type": "markdown",
   "metadata": {},
   "source": [
    "# Generate Losses (Ktools FM)\n"
   ]
  },
  {
   "cell_type": "code",
   "execution_count": null,
   "metadata": {
    "scrolled": true
   },
   "outputs": [],
   "source": [
    "%%time\n",
    "# Run Deterministic Losses FM\n",
    "output_losses = os.path.join(run_dir, 'losses.csv')\n",
    "OasisManager().run_exposure(\n",
    "    src_dir=run_dir,\n",
    "    output_level=output_level,\n",
    "    output_file=output_losses,\n",
    "    num_subperils=number_of_subperils,\n",
    "    loss_factor=loss_factors,\n",
    "    ktools_alloc_rule_il=alloc_il,\n",
    "    ktools_alloc_rule_ri=alloc_ri,\n",
    "    net_ri=True,\n",
    "    include_loss_factor=True,\n",
    "    print_summary=False,\n",
    "    fmpy=False,\n",
    ")\n",
    "ktools_losses = functions.load_df(output_losses)\n",
    "\n"
   ]
  },
  {
   "cell_type": "code",
   "execution_count": null,
   "metadata": {
    "scrolled": true
   },
   "outputs": [],
   "source": [
    "if len(loss_factors) > 1:\n",
    "    for i in range(len(loss_factors)):\n",
    "        factor_losses = ktools_losses[ktools_losses.loss_factor_idx == i]\n",
    "        display(Markdown(f'### Loss Factor {loss_factors[i]*100} %'))\n",
    "\n",
    "        display(Markdown('**Total gul** = {}'.format(\n",
    "            factor_losses.loss_gul.sum()\n",
    "        )))\n",
    "        display(Markdown('**Total il** = {}'.format(\n",
    "            factor_losses.loss_il.sum()\n",
    "        )))\n",
    "        if hasattr(factor_losses, 'loss_ri'):\n",
    "            display(Markdown('**Total ri ceded** = {}'.format(\n",
    "                factor_losses.loss_ri.sum()\n",
    "            )))\n",
    "        \n",
    "        display(factor_losses.drop(columns='loss_factor_idx'))\n",
    "else: \n",
    "    display(ktools_losses)"
   ]
  },
  {
   "cell_type": "markdown",
   "metadata": {},
   "source": [
    "# Generate Losses (Python FM)"
   ]
  },
  {
   "cell_type": "code",
   "execution_count": null,
   "metadata": {},
   "outputs": [],
   "source": [
    "%%time\n",
    "# Run Deterministic Losses fmpy\n",
    "output_losses = os.path.join(run_dir, 'losses.csv')\n",
    "OasisManager().run_exposure(\n",
    "    src_dir=run_dir,\n",
    "    output_level=output_level,\n",
    "    output_file=output_losses,\n",
    "    num_subperils=number_of_subperils,\n",
    "    loss_factor=loss_factors,\n",
    "    ktools_alloc_rule_il=alloc_il,\n",
    "    ktools_alloc_rule_ri=alloc_ri,\n",
    "    net_ri=True,\n",
    "    include_loss_factor=True,\n",
    "    print_summary=False,\n",
    "    fmpy=True,\n",
    ")\n",
    "fmpy_losses = functions.load_df(output_losses)\n"
   ]
  },
  {
   "cell_type": "code",
   "execution_count": null,
   "metadata": {},
   "outputs": [],
   "source": [
    "if len(loss_factors) > 1:\n",
    "    for i in range(len(loss_factors)):\n",
    "        factor_losses = fmpy_losses[fmpy_losses.loss_factor_idx == i]\n",
    "        display(Markdown(f'### Loss Factor {loss_factors[i]*100} %'))\n",
    "\n",
    "        display(Markdown('**Total gul** = {}'.format(\n",
    "            factor_losses.loss_gul.sum()\n",
    "        )))\n",
    "        display(Markdown('**Total il** = {}'.format(\n",
    "            factor_losses.loss_il.sum()\n",
    "        )))\n",
    "        if hasattr(factor_losses, 'loss_ri'):\n",
    "            display(Markdown('**Total ri ceded** = {}'.format(\n",
    "                factor_losses.loss_ri.sum()\n",
    "            )))\n",
    "            \n",
    "        display(factor_losses.drop(columns='loss_factor_idx'))\n",
    "else: \n",
    "    display(fmpy_losses)"
   ]
  },
  {
   "cell_type": "markdown",
   "metadata": {},
   "source": [
    "## Percentage difference between FM modules "
   ]
  },
  {
   "cell_type": "code",
   "execution_count": null,
   "metadata": {},
   "outputs": [],
   "source": [
    "# Show output difference % \n",
    "if len(loss_factors) > 1:\n",
    "    pc_diff_df = fmpy_losses[['portnumber', 'accnumber','locnumber', 'loss_factor_idx']]\n",
    "    pc_diff_df['loss_il_difference'] = (fmpy_losses['loss_il'] - ktools_losses['loss_il']) / (fmpy_losses['loss_il'] + ktools_losses['loss_il'] * 2)* 100\n",
    "    if hasattr(fmpy_losses, 'loss_ri'):\n",
    "        pc_diff_df['loss_ri_difference'] = (fmpy_losses['loss_ri'] - ktools_losses['loss_ri']) / (fmpy_losses['loss_ri'] + ktools_losses['loss_ri'] * 2)* 100\n",
    "    \n",
    "    pc_diff_df.fillna(0, inplace=True)\n",
    "    \n",
    "    for i in range(len(loss_factors)):\n",
    "        display(Markdown(f'### Loss Factor {loss_factors[i]*100} %'))\n",
    "        diff_losses = pc_diff_df[pc_diff_df.loss_factor_idx == i]\n",
    "        display(diff_losses.drop(columns='loss_factor_idx'))\n",
    "    \n",
    "else: \n",
    "    pc_diff_df = fmpy_losses[['portnumber', 'accnumber','locnumber']]\n",
    "    pc_diff_df['loss_il_difference'] = (fmpy_losses['loss_il'] - ktools_losses['loss_il']) / (fmpy_losses['loss_il'] + ktools_losses['loss_il'] * 2)* 100\n",
    "    pc_diff_df['loss_ri_difference'] = (fmpy_losses['loss_ri'] - ktools_losses['loss_ri']) / (fmpy_losses['loss_ri'] + ktools_losses['loss_ri'] * 2)* 100\n",
    "    pc_diff_df.fillna(0, inplace=True)\n",
    "    display(pc_diff_df)"
   ]
  },
  {
   "cell_type": "code",
   "execution_count": null,
   "metadata": {},
   "outputs": [],
   "source": []
  },
  {
   "cell_type": "code",
   "execution_count": null,
   "metadata": {},
   "outputs": [],
   "source": []
  },
  {
   "cell_type": "code",
   "execution_count": null,
   "metadata": {},
   "outputs": [],
   "source": []
  },
  {
   "cell_type": "code",
   "execution_count": null,
   "metadata": {},
   "outputs": [],
   "source": []
  }
 ],
 "metadata": {
  "kernelspec": {
   "display_name": "Python 3",
   "language": "python",
   "name": "python3"
  },
  "language_info": {
   "codemirror_mode": {
    "name": "ipython",
    "version": 3
   },
   "file_extension": ".py",
   "mimetype": "text/x-python",
   "name": "python",
   "nbconvert_exporter": "python",
   "pygments_lexer": "ipython3",
   "version": "3.8.2"
  }
 },
 "nbformat": 4,
 "nbformat_minor": 2
}
