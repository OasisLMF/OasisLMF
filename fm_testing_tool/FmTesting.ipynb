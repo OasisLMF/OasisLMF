{
  "cells": [
    {
      "cell_type": "markdown",
      "metadata": {
        "id": "view-in-github",
        "colab_type": "text"
      },
      "source": [
        "<a href=\"https://colab.research.google.com/github/OasisLMF/OasisLMF/blob/develop/fm_testing_tool/FmTesting.ipynb\" target=\"_parent\"><img src=\"https://colab.research.google.com/assets/colab-badge.svg\" alt=\"Open In Colab\"/></a>"
      ]
    },
    {
      "cell_type": "markdown",
      "metadata": {
        "id": "-m3LmG3Us2sX"
      },
      "source": [
        "Oasis FM Testing Tool\n",
        "==================\n",
        "\n",
        "This notebook allows example insurance structures to be input in OED format and ran against the development version of the Oasis finanical engine.  \n",
        "\n",
        "## Input files \n",
        "\n",
        "The input file formats are defined by the Open Data Standards (OED) specification. <br/>\n",
        "Please visit https://github.com/OasisLMF/OpenDataStandards for more information.\n",
        "\n",
        "\n",
        "## Notebook steps \n",
        "\n",
        "This notebook runs the following on the selected set of OED files which can either by uploaded or selected from the suite of FM test cases by drop down menu. The in-built test cases are the same used for automated testing to validate the correctness of the FM module. \n",
        "\n",
        "### Step 1. Generate Oasis files \n",
        "1. Select Input files.\n",
        "2. View and edit the OED input files (optional)\n",
        "3. Generate deterministic keys data.\n",
        "4. Generate a set of oasis files (Not editable).\n",
        "\n",
        "### Step 2. View Oasis files \n",
        "5. Visualize FM tree structure and files.\n",
        "6. Visualize RI tree structure and files. \n",
        "\n",
        "### Step 3. Generate deterministic losses \n",
        "7. Run the current ktools FM module \n",
        "8. Run the new python based FM module\n",
        "9. Compare loss outputs between the two modules \n",
        "\n",
        "## Options for test parameters \n",
        "\n",
        "**Keys Data:** The deterministic keys return can be edited to return muilt-peril and/or multi-coverage.\n",
        "* `number_of_subperils` - Adds `x` number of peril ids per location row, where perils are interger values between [1..x]\n",
        "* `supported_coverage_types` - Select a list of integers of values between 1 and 4, where each represents a coverage type. \n",
        "```\n",
        "    1 = buildings\n",
        "    2 = other\n",
        "    3 = content\n",
        "    4 = business interruption\n",
        "```\n",
        "\n",
        "**Allocation Rules:** Losses can either output at the contract level or back-allocated to the lowest level, which is item_id, using one of three command line options. There are three meaningful values here – don’t allocate (0) used typically for all levels where a breakdown of losses is not required in output, allocate back to items (1) in proportion to the input (ground up) losses, or allocate back to items (2) in proportion to the losses from the prior level calculation.\n",
        "\n",
        "Reinsurance has an additional rule (3), where the layers are applied differently to the FM tree. When set \n",
        "layers can be defined throughout the hierarchy and back-allocation is in proportion to the losses from the previous level taking layer number into account.  \n",
        "\n",
        "* `alloc_il` - set the allocation rule for insured losses\n",
        "* `alloc_ri` - set the allocation rule for reinsurance losses\n",
        "\n",
        "```\n",
        "    0 = Losses are output at the contract level and not back-allocated\n",
        "    1 = Losses are back-allocated to items on the basis of the input losses (e.g. ground up loss)\n",
        "    2 = Losses are back-allocated to items on the basis of the prior level losses\n",
        "    3 = (RI only) Losses are back-allocated by layer and level. \n",
        "```\n",
        "\n",
        "**Output losses:** The losses are generated using the `run_exposure` function, which is equivalent of running `oasislmf exposure run --src-dir <path_to_oed_dir>` on command line.   \n",
        "\n",
        "* `loss_factors` select the number of loss factors to test, where each float value in a list is between [0.0..1.0] that represents a % of ground up losses. For example, using `[0.45, 1.0]` will run the loss calculation twice, first assuming a 45% ground up loss (GUL) and again with 100% GUL.\n",
        "\n",
        "* `output_level` - Set how the output losses are aggregated, valid options are a single string from `'item', 'loc', 'pol', 'acc', 'port'`\n",
        "```\n",
        "    'item' = Aggregate losses by item id\n",
        "    'loc'  = Aggregate losses by location number\n",
        "    'pol'  = Aggregate losses by policy number\n",
        "    'acc'  = Aggregate losses by account number\n",
        "    'port' = Aggregate losses by portfolio\n",
        "```\n",
        "\n",
        "## Key for FM tree diagram \n",
        "\n",
        "The image below is an example FM tree with errors to show all types of node. \n",
        "\n",
        "* **Grey boxes** - Item level nodes\n",
        "* **Blue elipse** - Valid FM node, either coverage terms (level 1), location terms (level 2) or policy terms (3+)\n",
        "* **Orange Boxes** - Valid FM node with multiple layers \n",
        "* **Pink elipse** - Either the trees root or an FM node missing its calcrule.   \n",
        "\n",
        "<img src=https://user-images.githubusercontent.com/9889973/105785178-2c5af100-5f72-11eb-9ffd-d86a1fb84632.png width=\"550\" style=\"float:left\"> \n"
      ]
    },
    {
      "cell_type": "markdown",
      "source": [
        "## Installation and Setup"
      ],
      "metadata": {
        "id": "Tgz5PZ8IueuR"
      }
    },
    {
      "cell_type": "markdown",
      "source": [
        "### Pip install requirments "
      ],
      "metadata": {
        "id": "Q1S4ycfW8PWD"
      }
    },
    {
      "cell_type": "code",
      "source": [
        "!pip install oasislmf anytree ipywidgets==7.6.5 matplotlib graphviz"
      ],
      "metadata": {
        "id": "asN5eF4a7sUx"
      },
      "execution_count": null,
      "outputs": []
    },
    {
      "cell_type": "markdown",
      "source": [
        "### Git Clone OasisLMF "
      ],
      "metadata": {
        "id": "u6W12VCd8cIV"
      }
    },
    {
      "cell_type": "code",
      "source": [
        "! rm -rf oasis_working_dir\n",
        "! git clone https://github.com/OasisLMF/OasisLMF.git -b develop oasis_working_dir \n",
        "! touch oasis_working_dir/__init__.py\n",
        "! mkdir -p /content/oasis_working_dir/validation/uploaded"
      ],
      "metadata": {
        "id": "Yv_60zFR7uuj"
      },
      "execution_count": null,
      "outputs": []
    },
    {
      "cell_type": "markdown",
      "source": [
        "### Python Imports"
      ],
      "metadata": {
        "id": "mjtq3Wat8iL7"
      }
    },
    {
      "cell_type": "code",
      "source": [
        "# Standard Python libraries\n",
        "import io\n",
        "import json\n",
        "import os\n",
        "import shutil\n",
        "\n",
        "from IPython.display import Image\n",
        "import pandas as pd\n",
        "from IPython.display import Markdown, display, Javascript\n",
        "from oasislmf.manager import OasisManager\n",
        "from google.colab import files\n",
        "\n",
        "import oasis_working_dir.fm_testing_tool.widgets as widgets\n",
        "import oasis_working_dir.fm_testing_tool.functions as functions"
      ],
      "metadata": {
        "id": "GISCTypg75W4"
      },
      "execution_count": null,
      "outputs": []
    },
    {
      "cell_type": "markdown",
      "source": [
        "### Upload local files into the Notebook (Optional)\n",
        "##### Files must use the following naming convention:\n",
        "* `location.csv` - Location exposure data (required)\n",
        "* `account.csv`  - Account terms and conditions (required)\n",
        "* `ri_info.csv`  - Reinsurance information (optional)\n",
        "* `ri_scope.csv` - Reinsirance scoping rules (optional)\n"
      ],
      "metadata": {
        "id": "joyhfl8x8o-R"
      }
    },
    {
      "cell_type": "code",
      "source": [
        "files.upload_file('/content/oasis_working_dir/validation/uploaded/location.csv')"
      ],
      "metadata": {
        "id": "2asW_fsrBlWp"
      },
      "execution_count": null,
      "outputs": []
    },
    {
      "cell_type": "code",
      "source": [
        "files.upload_file('/content/oasis_working_dir/validation/uploaded/account.csv')"
      ],
      "metadata": {
        "id": "Src2NI98DQTV"
      },
      "execution_count": null,
      "outputs": []
    },
    {
      "cell_type": "code",
      "source": [
        "files.upload_file('/content/oasis_working_dir/validation/uploaded/ri_info.csv')"
      ],
      "metadata": {
        "id": "6U1KTVImDQd_"
      },
      "execution_count": null,
      "outputs": []
    },
    {
      "cell_type": "code",
      "source": [
        "files.upload_file('/content/oasis_working_dir/validation/uploaded/ri_scope.csv')"
      ],
      "metadata": {
        "id": "IcKM14mXDQxE"
      },
      "execution_count": null,
      "outputs": []
    },
    {
      "cell_type": "markdown",
      "source": [
        "## Load Exposure files"
      ],
      "metadata": {
        "id": "9_zZq8iADbZB"
      }
    },
    {
      "cell_type": "code",
      "execution_count": null,
      "metadata": {
        "id": "fdAyKKnps2sf"
      },
      "outputs": [],
      "source": [
        "# Select a validation example to run, the default value points the file upload location\n",
        "# edit the path 'examples_dir' to point to either a directory of example dirs\n",
        "# Or point it to a specific example to load that by default \n",
        "\n",
        "# Select Test units - uncomment one of the following filepaths to list the sub-test unit tests  \n",
        "sub_tests = \"\"\n",
        "#sub_tests = \"insurance/units\"\n",
        "#sub_tests = \"insurance_step/units\"\n",
        "#sub_tests = \"reinsurance1/units\"\n",
        "#sub_tests = \"reinsurance2/units\"\n",
        "#sub_tests = \"insurance_conditions\"\n",
        "#sub_tests = \"issues/units\"\n",
        "\n",
        "source_exposure = {} \n",
        "widgets.select_source_dir(source_exposure, examples_dir='./oasis_working_dir/validation/' + sub_tests)"
      ]
    },
    {
      "cell_type": "markdown",
      "metadata": {
        "id": "RNUXlohAs2sh"
      },
      "source": [
        "## Adjust Test Parameters "
      ]
    },
    {
      "cell_type": "code",
      "execution_count": null,
      "metadata": {
        "id": "S7FBBCbds2sh"
      },
      "outputs": [],
      "source": [
        "# Keys Data\n",
        "number_of_subperils = 1\n",
        "supported_coverage_types = [1,3,4] # 1 = buildings, 2 = other, 3 = content, 4 = business interruption\n",
        "\n",
        "# Allocation Rules \n",
        "alloc_il = 2\n",
        "alloc_ri = 3\n",
        "\n",
        "# Output losses \n",
        "loss_factors = [1]\n",
        "output_level = 'loc' # valid options are 'item', 'loc', 'pol', 'acc', 'port'"
      ]
    },
    {
      "cell_type": "markdown",
      "source": [],
      "metadata": {
        "id": "B66AemcyEYGs"
      }
    },
    {
      "cell_type": "code",
      "execution_count": null,
      "metadata": {
        "id": "5e9dh55ps2si"
      },
      "outputs": [],
      "source": [
        "# Load source files from selected test case \n",
        "location_df = functions.load_df(source_exposure['location_path'], required_file='location.csv')\n",
        "account_df =  functions.load_df(source_exposure['account_path'], required_file='account.csv')\n",
        "ri_info_df =  functions.load_df(source_exposure['ri_info_path'])\n",
        "ri_scope_df = functions.load_df(source_exposure['ri_scope_path'])"
      ]
    },
    {
      "cell_type": "code",
      "execution_count": null,
      "metadata": {
        "id": "NK4qWGtUs2sj"
      },
      "outputs": [],
      "source": [
        "# View/edit the location data.\n",
        "location_df"
      ]
    },
    {
      "cell_type": "code",
      "execution_count": null,
      "metadata": {
        "scrolled": true,
        "id": "MhHSDn6Xs2sk"
      },
      "outputs": [],
      "source": [
        "account_df"
      ]
    },
    {
      "cell_type": "code",
      "execution_count": null,
      "metadata": {
        "id": "Z9b5l2frs2sl"
      },
      "outputs": [],
      "source": [
        "# View/edit the ri_info data (Optinal). \n",
        "ri_info_df"
      ]
    },
    {
      "cell_type": "code",
      "execution_count": null,
      "metadata": {
        "id": "CT98BL8Gs2sm"
      },
      "outputs": [],
      "source": [
        "# View/edit the ri_scope data (Optinal). \n",
        "ri_scope_df"
      ]
    },
    {
      "cell_type": "code",
      "source": [
        "# Store exposure and create run dir \n",
        "run_dir = os.path.join('runs', os.path.basename(source_exposure['source_dir']))\n",
        "os.makedirs(run_dir, exist_ok=True)\n",
        "\n",
        "# Pick up any edits for required files in the grid before running the analysis\n",
        "loc_csv = os.path.join(run_dir, \"location.csv\")\n",
        "location_df.to_csv(path_or_buf=loc_csv, encoding='utf-8', index=False)\n",
        "\n",
        "acc_csv = os.path.join(run_dir, \"account.csv\")\n",
        "account_df.to_csv(path_or_buf=acc_csv, encoding='utf-8', index=False)\n",
        " \n",
        "# Pick up any edits ri file edits if there \n",
        "if (ri_scope_df is not None) and (ri_info_df is not None):\n",
        "    info_csv = os.path.join(run_dir, \"ri_info.csv\")\n",
        "    ri_info_df.to_csv(path_or_buf=info_csv, encoding='utf-8', index=False)\n",
        "    \n",
        "    scope_csv = os.path.join(run_dir, \"ri_scope.csv\")\n",
        "    ri_scope_df.to_csv(path_or_buf=scope_csv, encoding='utf-8', index=False)\n",
        "else:\n",
        "    info_csv = None\n",
        "    scope_csv = None"
      ],
      "metadata": {
        "id": "CtQ9J98d95nA"
      },
      "execution_count": null,
      "outputs": []
    },
    {
      "cell_type": "code",
      "execution_count": null,
      "metadata": {
        "scrolled": true,
        "id": "eP8ub3XMs2sn"
      },
      "outputs": [],
      "source": [
        "\n",
        "# Generate keys file\n",
        "keys_csv = os.path.join(run_dir, \"keys.csv\")\n",
        "OasisManager().generate_keys_deterministic(\n",
        "    oed_location_csv=loc_csv,\n",
        "    keys_data_csv=keys_csv,\n",
        "    supported_oed_coverage_types=supported_coverage_types,\n",
        "    num_subperils=number_of_subperils,\n",
        ")\n",
        "\n",
        "keys_df = functions.load_df(keys_csv, required_file='keys.csv') \n",
        "keys_df"
      ]
    },
    {
      "cell_type": "markdown",
      "metadata": {
        "id": "LbR0Lk2es2so"
      },
      "source": [
        "# Generate Oasis files"
      ]
    },
    {
      "cell_type": "code",
      "execution_count": null,
      "metadata": {
        "id": "GovojRjHs2so"
      },
      "outputs": [],
      "source": [
        "%%time\n",
        " # Pick up any edits in the Keys data \n",
        "keys_df.to_csv(path_or_buf=keys_csv, encoding='utf-8', index=False)\n",
        "\n",
        "# Start Oasis files generation\n",
        "try:\n",
        "    oasis_files = OasisManager().generate_files(\n",
        "        oasis_files_dir=run_dir,\n",
        "        oed_location_csv=loc_csv,\n",
        "        oed_accounts_csv=acc_csv,\n",
        "        oed_info_csv=info_csv,\n",
        "        oed_scope_csv=scope_csv,\n",
        "        keys_data_csv=keys_csv,\n",
        "        disable_summarise_exposure=True,\n",
        "        write_ri_tree=True)\n",
        "\n",
        "    print(\"Location rows: {}\".format(len(location_df)))\n",
        "    print(\"Lookup rows: {}\".format(len(keys_df)))\n",
        "except: \n",
        "    raise SystemExit(\"Error in Oasis files generation - Halting Execution\")"
      ]
    },
    {
      "cell_type": "code",
      "execution_count": null,
      "metadata": {
        "id": "vuT-_yJ0s2sp"
      },
      "outputs": [],
      "source": [
        "# Show FM items \n",
        "fm_file = 'items'\n",
        "display(Markdown(f'### {fm_file}.csv'))\n",
        "functions.load_df(oasis_files[fm_file])"
      ]
    },
    {
      "cell_type": "code",
      "execution_count": null,
      "metadata": {
        "id": "PgHbWeC-s2sp"
      },
      "outputs": [],
      "source": [
        "# Show FM coverages \n",
        "fm_file = 'coverages'\n",
        "display(Markdown(f'### {fm_file}.csv'))\n",
        "functions.load_df(oasis_files[fm_file])"
      ]
    },
    {
      "cell_type": "markdown",
      "metadata": {
        "id": "WC5dhop8s2sq"
      },
      "source": [
        "## View Direct Insurance files  "
      ]
    },
    {
      "cell_type": "code",
      "execution_count": null,
      "metadata": {
        "scrolled": true,
        "id": "bwFYk_yfs2sq"
      },
      "outputs": [],
      "source": [
        "# Show FM summary map \n",
        "fm_file = 'fm_summary_map'\n",
        "display(Markdown(f'### {fm_file}.csv'))\n",
        "#widgets.show_df(functions.load_df(os.path.join(run_dir, 'gul_summary_map.csv')))\n",
        "fm_summary_map = functions.load_df(os.path.join(run_dir, 'fm_summary_map.csv'))\n",
        "fm_summary_map.tiv = fm_summary_map.tiv / number_of_subperils\n",
        "fm_summary_map"
      ]
    },
    {
      "cell_type": "code",
      "execution_count": null,
      "metadata": {
        "scrolled": true,
        "id": "u4zZaxPQs2sr"
      },
      "outputs": [],
      "source": [
        "# Show FM fm_programme \n",
        "fm_file = 'fm_programme'\n",
        "display(Markdown(f'### {fm_file}.csv'))\n",
        "fm_programme = functions.load_df(oasis_files[fm_file])\n",
        "fm_programme"
      ]
    },
    {
      "cell_type": "code",
      "execution_count": null,
      "metadata": {
        "id": "o1vF_af0s2ss"
      },
      "outputs": [],
      "source": [
        "# Show FM fm_policytc \n",
        "fm_file = 'fm_policytc'\n",
        "display(Markdown(f'### {fm_file}.csv'))\n",
        "fm_policytc = functions.load_df(oasis_files[fm_file])\n",
        "fm_policytc"
      ]
    },
    {
      "cell_type": "code",
      "execution_count": null,
      "metadata": {
        "scrolled": true,
        "id": "dvnriuS4s2ss"
      },
      "outputs": [],
      "source": [
        "# Show FM fm_profile \n",
        "fm_file = 'fm_profile'\n",
        "display(Markdown(f'### {fm_file}.csv'))\n",
        "fm_profile = functions.load_df(oasis_files[fm_file])\n",
        "fm_profile"
      ]
    },
    {
      "cell_type": "code",
      "execution_count": null,
      "metadata": {
        "id": "Izvd8_Das2ss"
      },
      "outputs": [],
      "source": [
        "# Display FM tree\n",
        "fm_tree, missing_node_links = functions.create_fm_tree(fm_programme, fm_policytc, fm_profile, fm_summary_map)\n",
        "functions.render_fm_tree(fm_tree, filename='tree.png')\n",
        "display(Markdown(f'### FM calc Tree'))\n",
        "display(Image(filename='tree.png'))\n",
        "display(Markdown('### [ FM calcuation rules - reference doc](https://github.com/OasisLMF/ktools/blob/master/docs/md/fmprofiles.md)'))\n",
        "\n",
        "if missing_node_links:\n",
        "    raise SystemExit(\"FM files hierarchy error - Halting Execution\")"
      ]
    },
    {
      "cell_type": "markdown",
      "metadata": {
        "id": "peeCxAuSs2ss"
      },
      "source": [
        "## View Reinsurance files  "
      ]
    },
    {
      "cell_type": "code",
      "execution_count": null,
      "metadata": {
        "id": "wQqncxlqs2st"
      },
      "outputs": [],
      "source": [
        "# Edit this value to dislay another inuring priority\n",
        "selected_ri_layer = \"1\"   \n",
        "\n",
        "# Show created RI layers\n",
        "ri_dir = None\n",
        "if (ri_scope_df is not None) and (ri_info_df is not None):\n",
        "    with open(oasis_files['ri_layers'], 'r') as layers:\n",
        "        ri_metadata = json.load(layers)\n",
        "    print(json.dumps(ri_metadata, indent=4))\n",
        "    \n",
        "    # Select RI layer to display\n",
        "    ri_dir = ri_metadata[selected_ri_layer][\"directory\"]\n",
        "    display(Markdown(f\"### Showing RI layer {selected_ri_layer}\"))"
      ]
    },
    {
      "cell_type": "code",
      "execution_count": null,
      "metadata": {
        "id": "BwTlUuq0s2st"
      },
      "outputs": [],
      "source": [
        "# Show RI fm_programme \n",
        "if ri_dir:\n",
        "    ri_file = 'fm_programme.csv'\n",
        "    display(Markdown(f'### RI_{selected_ri_layer} - {ri_file}'))\n",
        "    ri_programme = functions.load_df(os.path.join(ri_dir, ri_file))\n",
        "    display(widgets.show_df(ri_programme))"
      ]
    },
    {
      "cell_type": "code",
      "execution_count": null,
      "metadata": {
        "id": "2dnRd2kms2st"
      },
      "outputs": [],
      "source": [
        "# Show RI fm_policytc \n",
        "if ri_dir:\n",
        "    ri_file = 'fm_policytc.csv'\n",
        "    display(Markdown(f'### RI_{selected_ri_layer} - {ri_file}'))\n",
        "    ri_policytc = functions.load_df(os.path.join(ri_dir, ri_file))\n",
        "    display(widgets.show_df(ri_policytc))"
      ]
    },
    {
      "cell_type": "code",
      "execution_count": null,
      "metadata": {
        "id": "45Te8oohs2su"
      },
      "outputs": [],
      "source": [
        "# Show RI fm_profile \n",
        "if ri_dir:\n",
        "    ri_file = 'fm_profile.csv'\n",
        "    display(Markdown(f'### RI_{selected_ri_layer} - {ri_file}'))\n",
        "    ri_profile = functions.load_df(os.path.join(ri_dir, ri_file))\n",
        "    display(widgets.show_df(ri_profile))"
      ]
    },
    {
      "cell_type": "code",
      "execution_count": null,
      "metadata": {
        "id": "APvz_FwHs2su"
      },
      "outputs": [],
      "source": [
        "# Show RI Tree\n",
        "if ri_dir:\n",
        "    tree_fp = os.path.join(ri_dir, 'fm_tree.png')\n",
        "    display(Markdown(f'### RI_{selected_ri_layer} - calc Tree'))\n",
        "    display(Image(filename=tree_fp))"
      ]
    },
    {
      "cell_type": "markdown",
      "metadata": {
        "id": "1yyh--6bs2su"
      },
      "source": [
        "# Generate Losses (Ktools FM)\n"
      ]
    },
    {
      "cell_type": "code",
      "execution_count": null,
      "metadata": {
        "scrolled": true,
        "id": "gjpcczHks2sv"
      },
      "outputs": [],
      "source": [
        "%%time\n",
        "# Run Deterministic Losses FM\n",
        "output_losses = os.path.join(run_dir, 'losses.csv')\n",
        "OasisManager().run_exposure(\n",
        "    src_dir=run_dir,\n",
        "    output_level=output_level,\n",
        "    output_file=output_losses,\n",
        "    num_subperils=number_of_subperils,\n",
        "    coverage_types=supported_coverage_types,\n",
        "    loss_factor=loss_factors,\n",
        "    ktools_alloc_rule_il=alloc_il,\n",
        "    ktools_alloc_rule_ri=alloc_ri,\n",
        "    net_ri=True,\n",
        "    include_loss_factor=True,\n",
        "    print_summary=False,\n",
        "    fmpy=False,\n",
        ")\n",
        "ktools_losses = functions.load_df(output_losses)"
      ]
    },
    {
      "cell_type": "code",
      "execution_count": null,
      "metadata": {
        "scrolled": true,
        "id": "fwtGxq4xs2sv"
      },
      "outputs": [],
      "source": [
        "# Show loss results \n",
        "if len(loss_factors) > 1:\n",
        "    for i in range(len(loss_factors)):\n",
        "        factor_losses = ktools_losses[ktools_losses.loss_factor_idx == i]\n",
        "        display(Markdown(f'### Loss Factor {loss_factors[i]*100} %'))\n",
        "\n",
        "        display(Markdown('**Total gul** = {}'.format(\n",
        "            factor_losses.loss_gul.sum()\n",
        "        )))\n",
        "        display(Markdown('**Total il** = {}'.format(\n",
        "            factor_losses.loss_il.sum()\n",
        "        )))\n",
        "        if hasattr(factor_losses, 'loss_ri'):\n",
        "            display(Markdown('**Total ri ceded** = {}'.format(\n",
        "                factor_losses.loss_ri.sum()\n",
        "            )))\n",
        "        \n",
        "        display(factor_losses.drop(columns='loss_factor_idx'))\n",
        "else: \n",
        "    display(ktools_losses)"
      ]
    },
    {
      "cell_type": "markdown",
      "metadata": {
        "id": "Z8WXQiOus2sv"
      },
      "source": [
        "# Generate Losses (Python FM)"
      ]
    },
    {
      "cell_type": "code",
      "execution_count": null,
      "metadata": {
        "id": "4plkqdPOs2sw"
      },
      "outputs": [],
      "source": [
        "%%time\n",
        "# Run Deterministic Losses fmpy\n",
        "output_losses = os.path.join(run_dir, 'losses.csv')\n",
        "OasisManager().run_exposure(\n",
        "    src_dir=run_dir,\n",
        "    output_level=output_level,\n",
        "    output_file=output_losses,\n",
        "    num_subperils=number_of_subperils,\n",
        "    coverage_types=supported_coverage_types,\n",
        "    loss_factor=loss_factors,\n",
        "    ktools_alloc_rule_il=alloc_il,\n",
        "    ktools_alloc_rule_ri=alloc_ri,\n",
        "    net_ri=True,\n",
        "    include_loss_factor=True,\n",
        "    print_summary=False,\n",
        "    fmpy=True,\n",
        ")\n",
        "fmpy_losses = functions.load_df(output_losses)"
      ]
    },
    {
      "cell_type": "code",
      "execution_count": null,
      "metadata": {
        "id": "JjaeRk9as2sw"
      },
      "outputs": [],
      "source": [
        "# Show loss results \n",
        "if len(loss_factors) > 1:\n",
        "    for i in range(len(loss_factors)):\n",
        "        factor_losses = fmpy_losses[fmpy_losses.loss_factor_idx == i]\n",
        "        display(Markdown(f'### Loss Factor {loss_factors[i]*100} %'))\n",
        "\n",
        "        display(Markdown('**Total gul** = {}'.format(\n",
        "            factor_losses.loss_gul.sum()\n",
        "        )))\n",
        "        display(Markdown('**Total il** = {}'.format(\n",
        "            factor_losses.loss_il.sum()\n",
        "        )))\n",
        "        if hasattr(factor_losses, 'loss_ri'):\n",
        "            display(Markdown('**Total ri ceded** = {}'.format(\n",
        "                factor_losses.loss_ri.sum()\n",
        "            )))\n",
        "            \n",
        "        display(factor_losses.drop(columns='loss_factor_idx'))\n",
        "else: \n",
        "    display(fmpy_losses)"
      ]
    },
    {
      "cell_type": "markdown",
      "metadata": {
        "id": "ysBAu85as2sw"
      },
      "source": [
        "# Percentage difference between FM modules "
      ]
    },
    {
      "cell_type": "code",
      "execution_count": null,
      "metadata": {
        "id": "RefQe5Zms2sw"
      },
      "outputs": [],
      "source": [
        "# Show output difference % \n",
        "col_filter = [col for col in fmpy_losses.columns if col in ['loss_gul', 'loss_il', 'loss_ri']]\n",
        "pc_diff_df = fmpy_losses.drop(columns=col_filter)\n",
        "\n",
        "\n",
        "if len(loss_factors) > 1:\n",
        "    pc_diff_df['loss_il_difference'] = (fmpy_losses['loss_il'] - ktools_losses['loss_il']).abs() / (fmpy_losses['loss_il'] + ktools_losses['loss_il'] * 2)* 100\n",
        "    if hasattr(fmpy_losses, 'loss_ri'):\n",
        "        pc_diff_df['loss_ri_difference'] = (fmpy_losses['loss_ri'] - ktools_losses['loss_ri']).abs() / (fmpy_losses['loss_ri'] + ktools_losses['loss_ri'] * 2)* 100\n",
        "    \n",
        "    pc_diff_df.fillna(0, inplace=True)\n",
        "    \n",
        "    for i in range(len(loss_factors)):\n",
        "        display(Markdown(f'### Loss Factor {loss_factors[i]*100} %'))\n",
        "        diff_losses = pc_diff_df[pc_diff_df.loss_factor_idx == i]\n",
        "        display(diff_losses.drop(columns='loss_factor_idx'))\n",
        "    \n",
        "else: \n",
        "    pc_diff_df['loss_il_difference'] = (fmpy_losses['loss_il'] - ktools_losses['loss_il']).abs() / (fmpy_losses['loss_il'] + ktools_losses['loss_il'] * 2)* 100\n",
        "    if hasattr(fmpy_losses, 'loss_ri'):\n",
        "        pc_diff_df['loss_ri_difference'] = (fmpy_losses['loss_ri'] - ktools_losses['loss_ri']).abs() / (fmpy_losses['loss_ri'] + ktools_losses['loss_ri'] * 2)* 100\n",
        "    pc_diff_df.fillna(0, inplace=True)\n",
        "    display(pc_diff_df)"
      ]
    },
    {
      "cell_type": "code",
      "execution_count": null,
      "metadata": {
        "id": "ygK2q1vxs2sw"
      },
      "outputs": [],
      "source": []
    }
  ],
  "metadata": {
    "kernelspec": {
      "display_name": "Python 3",
      "language": "python",
      "name": "python3"
    },
    "language_info": {
      "codemirror_mode": {
        "name": "ipython",
        "version": 3
      },
      "file_extension": ".py",
      "mimetype": "text/x-python",
      "name": "python",
      "nbconvert_exporter": "python",
      "pygments_lexer": "ipython3",
      "version": "3.8.2"
    },
    "colab": {
      "provenance": [],
      "toc_visible": true,
      "collapsed_sections": [
        "peeCxAuSs2ss"
      ]
    }
  },
  "nbformat": 4,
  "nbformat_minor": 0
}
