{
 "cells": [
  {
   "cell_type": "markdown",
   "metadata": {},
   "source": [
    "# Oasis FM Testing Tool\n",
    "\n",
    "This notebook allows example insurance structures to be input in OED format and ran against the development version of the Oasis finanical engine. \n",
    "\n",
    "## Included\n",
    "\n",
    "The following terminology is defined in OED. Please visit https://github.com/Simplitium/OED for more information.\n",
    "\n"
   ]
  },
  {
   "cell_type": "markdown",
   "metadata": {},
   "source": [
    "## Input files \n",
    "\n",
    "Files must be named the following:\n",
    "\n",
    "* account.csv\n",
    "* location.csv\n",
    "* ri_info.csv\n",
    "* ri_scope.csv\n"
   ]
  },
  {
   "cell_type": "code",
   "execution_count": 1,
   "metadata": {},
   "outputs": [],
   "source": [
    "# 1. Notebook and Python setup\n",
    "%config IPCompleter.greedy=True\n",
    "\n",
    "# Standard Python libraries\n",
    "import io\n",
    "import json\n",
    "import os\n",
    "import shutil\n",
    "\n",
    "# 3rd party Python libraries\n",
    "import widgets\n",
    "import functions\n",
    "import pandas as pd\n",
    "from IPython.display import Markdown, display, Javascript\n",
    "from oasislmf.manager import OasisManager\n"
   ]
  },
  {
   "cell_type": "code",
   "execution_count": 2,
   "metadata": {},
   "outputs": [
    {
     "data": {
      "application/vnd.jupyter.widget-view+json": {
       "model_id": "08ea0f5d54e64208a65ea6eedf973201",
       "version_major": 2,
       "version_minor": 0
      },
      "text/plain": [
       "FileUploadWidget(label='Upload .CSV file', _dom_classes=('widget_item', 'btn-group'))"
      ]
     },
     "metadata": {},
     "output_type": "display_data"
    }
   ],
   "source": [
    "# Upload local files into the Notebook (Optional)\n",
    "\n",
    "widgets.file_uploader('examples/uploaded')"
   ]
  },
  {
   "cell_type": "code",
   "execution_count": 3,
   "metadata": {},
   "outputs": [
    {
     "data": {
      "application/vnd.jupyter.widget-view+json": {
       "model_id": "7cdeb2b509074586afbbe75f63b2ba55",
       "version_major": 2,
       "version_minor": 0
      },
      "text/plain": [
       "HBox(children=(Dropdown(description='Select:', options=('examples/CX29_03', 'examples/CX29_05', 'examples/CX29…"
      ]
     },
     "metadata": {},
     "output_type": "display_data"
    },
    {
     "data": {
      "text/plain": [
       "'Default value: examples/uploaded'"
      ]
     },
     "metadata": {},
     "output_type": "display_data"
    },
    {
     "data": {
      "text/plain": [
       "{'source_dir': 'examples/uploaded',\n",
       " 'location_path': None,\n",
       " 'account_path': None,\n",
       " 'ri_info_path': None,\n",
       " 'ri_scope_path': None}"
      ]
     },
     "metadata": {},
     "output_type": "display_data"
    },
    {
     "data": {
      "text/plain": [
       "'examples/CX30_100'"
      ]
     },
     "metadata": {},
     "output_type": "display_data"
    },
    {
     "data": {
      "text/plain": [
       "{'source_dir': 'examples/CX30_100',\n",
       " 'location_path': 'examples/CX30_100/location.csv',\n",
       " 'account_path': 'examples/CX30_100/account.csv',\n",
       " 'ri_info_path': 'examples/CX30_100/ri_info.csv',\n",
       " 'ri_scope_path': 'examples/CX30_100/ri_scope.csv'}"
      ]
     },
     "metadata": {},
     "output_type": "display_data"
    },
    {
     "data": {
      "application/javascript": [
       "var i = Jupyter.notebook.get_selected_index(); Jupyter.notebook.select(i+1);"
      ],
      "text/plain": [
       "<IPython.core.display.Javascript object>"
      ]
     },
     "metadata": {},
     "output_type": "display_data"
    }
   ],
   "source": [
    "# Select a validation example to run, the default value points the file upload location\n",
    "# If a variables shows a 'None' results then the s\n",
    "\n",
    "source_exposure = {}\n",
    "widgets.select_source_dir(source_exposure)"
   ]
  },
  {
   "cell_type": "code",
   "execution_count": 4,
   "metadata": {
    "scrolled": true
   },
   "outputs": [],
   "source": [
    "# Load source files from selected test case \n",
    "location_df =  functions.load_df(source_exposure['location_path'], required_file='location.csv')\n",
    "account_df =  functions.load_df(source_exposure['account_path'], required_file='account.csv')\n",
    "ri_info_df =  functions.load_df(source_exposure['ri_info_path'])\n",
    "ri_scope_df =  functions.load_df(source_exposure['ri_scope_path'])\n",
    "\n",
    "\n"
   ]
  },
  {
   "cell_type": "markdown",
   "metadata": {},
   "source": [
    "## Set Test Parameters "
   ]
  },
  {
   "cell_type": "code",
   "execution_count": 5,
   "metadata": {},
   "outputs": [],
   "source": [
    "# Keys data \n",
    "number_of_subperils = 1\n",
    "supported_coverage_types = [1,2,3,4]\n",
    "\n",
    "## Edit Params \n",
    "loss_factors = [0.5, 1]\n",
    "alloc_il = 2\n",
    "alloc_ri = 3\n",
    "output_level = 'item' # valid options are 'item', 'loc', 'pol', 'acc', 'port'"
   ]
  },
  {
   "cell_type": "code",
   "execution_count": 6,
   "metadata": {},
   "outputs": [
    {
     "data": {
      "application/javascript": [
       "Jupyter.notebook.execute_cells_below()"
      ],
      "text/plain": [
       "<IPython.core.display.Javascript object>"
      ]
     },
     "metadata": {},
     "output_type": "display_data"
    }
   ],
   "source": [
    "# Running this cell will execute the entire notebook \n",
    "display(Javascript(\"Jupyter.notebook.execute_cells_below()\"))"
   ]
  },
  {
   "cell_type": "code",
   "execution_count": 7,
   "metadata": {},
   "outputs": [
    {
     "data": {
      "application/vnd.jupyter.widget-view+json": {
       "model_id": "26a03710d4054220b7e0dfdefde3f9be",
       "version_major": 2,
       "version_minor": 0
      },
      "text/plain": [
       "QgridWidget(grid_options={'fullWidthRows': True, 'syncColumnCellResize': True, 'forceFitColumns': False, 'defa…"
      ]
     },
     "metadata": {},
     "output_type": "display_data"
    }
   ],
   "source": [
    "# View/edit the location data.\n",
    "location_grid = widgets.show_df(location_df)\n",
    "location_grid"
   ]
  },
  {
   "cell_type": "code",
   "execution_count": 8,
   "metadata": {},
   "outputs": [
    {
     "data": {
      "application/vnd.jupyter.widget-view+json": {
       "model_id": "87c94c867ec749f6bdfd1c9c326d27ac",
       "version_major": 2,
       "version_minor": 0
      },
      "text/plain": [
       "QgridWidget(grid_options={'fullWidthRows': True, 'syncColumnCellResize': True, 'forceFitColumns': False, 'defa…"
      ]
     },
     "metadata": {},
     "output_type": "display_data"
    }
   ],
   "source": [
    "# View/edit the account data. \n",
    "account_grid = widgets.show_df(account_df)\n",
    "account_grid"
   ]
  },
  {
   "cell_type": "code",
   "execution_count": 9,
   "metadata": {},
   "outputs": [],
   "source": [
    "# View/edit the ri_info data (Optinal). \n",
    "if ri_info_df is not None:\n",
    "    ri_info_grid = widgets.show_df(ri_info_df)\n",
    "    ri_info_grid"
   ]
  },
  {
   "cell_type": "code",
   "execution_count": 10,
   "metadata": {},
   "outputs": [],
   "source": [
    "# View/edit the ri_scope data (Optinal). \n",
    "if ri_scope_df is not None:\n",
    "    ri_scope_grid = widgets.show_df(ri_scope_df)\n",
    "    ri_scope_grid"
   ]
  },
  {
   "cell_type": "code",
   "execution_count": 11,
   "metadata": {
    "scrolled": true
   },
   "outputs": [],
   "source": [
    "# 6. Pick up any edits in the grid before running the analysis\n",
    "location_df = location_grid.get_changed_df()\n",
    "account_df = account_grid.get_changed_df()\n",
    "ri_info_df = ri_info_grid.get_changed_df()\n",
    "ri_scope_df = ri_scope_grid.get_changed_df()\n",
    " \n",
    "# Store exposure and create run dir \n",
    "run_dir = os.path.join('runs', os.path.basename(source_exposure['source_dir']))\n",
    "os.makedirs(run_dir, exist_ok=True)\n",
    "\n",
    "loc_csv = os.path.join(run_dir, \"location.csv\")\n",
    "acc_csv = os.path.join(run_dir, \"account.csv\")\n",
    "info_csv = os.path.join(run_dir, \"ri_info.csv\")\n",
    "scope_csv = os.path.join(run_dir, \"ri_scope.csv\")\n",
    "\n",
    "location_df.to_csv(path_or_buf=loc_csv, encoding='utf-8', index=False)\n",
    "account_df.to_csv(path_or_buf=acc_csv, encoding='utf-8', index=False)\n",
    "ri_info_df.to_csv(path_or_buf=info_csv, encoding='utf-8', index=False)\n",
    "ri_scope_df.to_csv(path_or_buf=scope_csv, encoding='utf-8', index=False)"
   ]
  },
  {
   "cell_type": "code",
   "execution_count": 12,
   "metadata": {
    "scrolled": true
   },
   "outputs": [
    {
     "data": {
      "application/vnd.jupyter.widget-view+json": {
       "model_id": "f68635e7683a4fdba23851ef22ecbd6f",
       "version_major": 2,
       "version_minor": 0
      },
      "text/plain": [
       "QgridWidget(grid_options={'fullWidthRows': True, 'syncColumnCellResize': True, 'forceFitColumns': False, 'defa…"
      ]
     },
     "metadata": {},
     "output_type": "display_data"
    }
   ],
   "source": [
    "# 7. Generate deterministic keys data \n",
    "\n",
    "# Parameters  \n",
    "\n",
    "\n",
    "# Generate keys file\n",
    "keys_csv = os.path.join(run_dir, \"keys.csv\")\n",
    "OasisManager().generate_keys_deterministic(\n",
    "    oed_location_csv=loc_csv,\n",
    "    keys_data_csv=keys_csv,\n",
    "    supported_oed_coverage_types=supported_coverage_types,\n",
    "    num_subperils=number_of_subperils,\n",
    ")\n",
    "\n",
    "keys_df = functions.load_df(keys_csv, required_file='keys.csv') \n",
    "keys_grid = widgets.show_df(keys_df)\n",
    "keys_grid"
   ]
  },
  {
   "cell_type": "markdown",
   "metadata": {},
   "source": [
    "## Generate Oasis files"
   ]
  },
  {
   "cell_type": "code",
   "execution_count": 13,
   "metadata": {},
   "outputs": [],
   "source": [
    "## Generate Oasis files \n",
    "\n",
    "# Pick up any edits in the Keys data \n",
    "keys_df = keys_grid.get_changed_df()\n",
    "keys_df.to_csv(path_or_buf=keys_csv, encoding='utf-8', index=False)\n",
    "\n",
    "# 2. Start Oasis files generation\n",
    "oasis_files = OasisManager().generate_files(\n",
    "    oasis_files_dir=run_dir,\n",
    "    oed_location_csv=loc_csv,\n",
    "    oed_accounts_csv=acc_csv,\n",
    "    oed_info_csv=info_csv,\n",
    "    oed_scope_csv=scope_csv,\n",
    "    keys_data_csv=keys_csv,\n",
    ")"
   ]
  },
  {
   "cell_type": "code",
   "execution_count": 14,
   "metadata": {},
   "outputs": [
    {
     "data": {
      "text/markdown": [
       "### items.csv"
      ],
      "text/plain": [
       "<IPython.core.display.Markdown object>"
      ]
     },
     "metadata": {},
     "output_type": "display_data"
    },
    {
     "data": {
      "application/vnd.jupyter.widget-view+json": {
       "model_id": "23af198b2cd6482182fb8cfbb3d17672",
       "version_major": 2,
       "version_minor": 0
      },
      "text/plain": [
       "QgridWidget(grid_options={'fullWidthRows': True, 'syncColumnCellResize': True, 'forceFitColumns': False, 'defa…"
      ]
     },
     "metadata": {},
     "output_type": "display_data"
    }
   ],
   "source": [
    "# Show FM items \n",
    "fm_file = 'items'\n",
    "display(Markdown(f'### {fm_file}.csv'))\n",
    "widgets.show_df(functions.load_df(oasis_files[fm_file]))\n"
   ]
  },
  {
   "cell_type": "code",
   "execution_count": 15,
   "metadata": {},
   "outputs": [
    {
     "data": {
      "text/markdown": [
       "### coverages.csv"
      ],
      "text/plain": [
       "<IPython.core.display.Markdown object>"
      ]
     },
     "metadata": {},
     "output_type": "display_data"
    },
    {
     "data": {
      "application/vnd.jupyter.widget-view+json": {
       "model_id": "ca0241df9e724e06a5c0c912a5a6797d",
       "version_major": 2,
       "version_minor": 0
      },
      "text/plain": [
       "QgridWidget(grid_options={'fullWidthRows': True, 'syncColumnCellResize': True, 'forceFitColumns': False, 'defa…"
      ]
     },
     "metadata": {},
     "output_type": "display_data"
    }
   ],
   "source": [
    "# Show FM coverages \n",
    "fm_file = 'coverages'\n",
    "display(Markdown(f'### {fm_file}.csv'))\n",
    "widgets.show_df(functions.load_df(oasis_files[fm_file]))\n"
   ]
  },
  {
   "cell_type": "code",
   "execution_count": 16,
   "metadata": {},
   "outputs": [
    {
     "data": {
      "text/markdown": [
       "### fm_policytc.csv"
      ],
      "text/plain": [
       "<IPython.core.display.Markdown object>"
      ]
     },
     "metadata": {},
     "output_type": "display_data"
    },
    {
     "data": {
      "application/vnd.jupyter.widget-view+json": {
       "model_id": "82a72033fce849059613d1cbfd0da3a4",
       "version_major": 2,
       "version_minor": 0
      },
      "text/plain": [
       "QgridWidget(grid_options={'fullWidthRows': True, 'syncColumnCellResize': True, 'forceFitColumns': False, 'defa…"
      ]
     },
     "metadata": {},
     "output_type": "display_data"
    }
   ],
   "source": [
    "# Show FM fm_policytc \n",
    "fm_file = 'fm_policytc'\n",
    "display(Markdown(f'### {fm_file}.csv'))\n",
    "widgets.show_df(functions.load_df(oasis_files[fm_file]))\n"
   ]
  },
  {
   "cell_type": "code",
   "execution_count": 17,
   "metadata": {},
   "outputs": [
    {
     "data": {
      "text/markdown": [
       "### fm_profile.csv"
      ],
      "text/plain": [
       "<IPython.core.display.Markdown object>"
      ]
     },
     "metadata": {},
     "output_type": "display_data"
    },
    {
     "data": {
      "application/vnd.jupyter.widget-view+json": {
       "model_id": "f593b76ef261460cbb0279619424377c",
       "version_major": 2,
       "version_minor": 0
      },
      "text/plain": [
       "QgridWidget(grid_options={'fullWidthRows': True, 'syncColumnCellResize': True, 'forceFitColumns': False, 'defa…"
      ]
     },
     "metadata": {},
     "output_type": "display_data"
    }
   ],
   "source": [
    "# Show FM fm_profile \n",
    "fm_file = 'fm_profile'\n",
    "display(Markdown(f'### {fm_file}.csv'))\n",
    "widgets.show_df(functions.load_df(oasis_files[fm_file]))\n"
   ]
  },
  {
   "cell_type": "code",
   "execution_count": 18,
   "metadata": {},
   "outputs": [
    {
     "data": {
      "text/markdown": [
       "### fm_programme.csv"
      ],
      "text/plain": [
       "<IPython.core.display.Markdown object>"
      ]
     },
     "metadata": {},
     "output_type": "display_data"
    },
    {
     "data": {
      "application/vnd.jupyter.widget-view+json": {
       "model_id": "9307bd43053247db9227f3cd00a9153a",
       "version_major": 2,
       "version_minor": 0
      },
      "text/plain": [
       "QgridWidget(grid_options={'fullWidthRows': True, 'syncColumnCellResize': True, 'forceFitColumns': False, 'defa…"
      ]
     },
     "metadata": {},
     "output_type": "display_data"
    }
   ],
   "source": [
    "# Show FM fm_programme \n",
    "fm_file = 'fm_programme'\n",
    "display(Markdown(f'### {fm_file}.csv'))\n",
    "widgets.show_df(functions.load_df(oasis_files[fm_file]))\n"
   ]
  },
  {
   "cell_type": "markdown",
   "metadata": {},
   "source": [
    "## Generate Losses \n"
   ]
  },
  {
   "cell_type": "code",
   "execution_count": 19,
   "metadata": {},
   "outputs": [
    {
     "data": {
      "text/markdown": [
       "### Loss Factor 50.0 %"
      ],
      "text/plain": [
       "<IPython.core.display.Markdown object>"
      ]
     },
     "metadata": {},
     "output_type": "display_data"
    },
    {
     "data": {
      "text/markdown": [
       "**Total gul** = 400000000.0"
      ],
      "text/plain": [
       "<IPython.core.display.Markdown object>"
      ]
     },
     "metadata": {},
     "output_type": "display_data"
    },
    {
     "data": {
      "text/markdown": [
       "**Total il** = 343000000.0"
      ],
      "text/plain": [
       "<IPython.core.display.Markdown object>"
      ]
     },
     "metadata": {},
     "output_type": "display_data"
    },
    {
     "data": {
      "text/markdown": [
       "**Total ri ceded** = 314599999.0"
      ],
      "text/plain": [
       "<IPython.core.display.Markdown object>"
      ]
     },
     "metadata": {},
     "output_type": "display_data"
    },
    {
     "data": {
      "text/html": [
       "<div>\n",
       "<style scoped>\n",
       "    .dataframe tbody tr th:only-of-type {\n",
       "        vertical-align: middle;\n",
       "    }\n",
       "\n",
       "    .dataframe tbody tr th {\n",
       "        vertical-align: top;\n",
       "    }\n",
       "\n",
       "    .dataframe thead th {\n",
       "        text-align: right;\n",
       "    }\n",
       "</style>\n",
       "<table border=\"1\" class=\"dataframe\">\n",
       "  <thead>\n",
       "    <tr style=\"text-align: right;\">\n",
       "      <th></th>\n",
       "      <th>output_id</th>\n",
       "      <th>portnumber</th>\n",
       "      <th>accnumber</th>\n",
       "      <th>locnumber</th>\n",
       "      <th>polnumber</th>\n",
       "      <th>coverage_type_id</th>\n",
       "      <th>loss_factor_idx</th>\n",
       "      <th>loss_gul</th>\n",
       "      <th>loss_il</th>\n",
       "      <th>loss_ri</th>\n",
       "    </tr>\n",
       "  </thead>\n",
       "  <tbody>\n",
       "    <tr>\n",
       "      <th>0</th>\n",
       "      <td>1</td>\n",
       "      <td>OEDTest</td>\n",
       "      <td>CX30_08</td>\n",
       "      <td>CX30_08_1</td>\n",
       "      <td>CX30_08_1</td>\n",
       "      <td>1</td>\n",
       "      <td>0</td>\n",
       "      <td>37500000.0</td>\n",
       "      <td>36750000.0</td>\n",
       "      <td>29650000.0</td>\n",
       "    </tr>\n",
       "    <tr>\n",
       "      <th>2</th>\n",
       "      <td>2</td>\n",
       "      <td>OEDTest</td>\n",
       "      <td>CX30_08</td>\n",
       "      <td>CX30_08_1</td>\n",
       "      <td>CX30_08_1</td>\n",
       "      <td>3</td>\n",
       "      <td>0</td>\n",
       "      <td>6000000.0</td>\n",
       "      <td>5880000.0</td>\n",
       "      <td>4744000.0</td>\n",
       "    </tr>\n",
       "    <tr>\n",
       "      <th>4</th>\n",
       "      <td>3</td>\n",
       "      <td>OEDTest</td>\n",
       "      <td>CX30_08</td>\n",
       "      <td>CX30_08_1</td>\n",
       "      <td>CX30_08_1</td>\n",
       "      <td>4</td>\n",
       "      <td>0</td>\n",
       "      <td>6500000.0</td>\n",
       "      <td>6370000.0</td>\n",
       "      <td>5139333.0</td>\n",
       "    </tr>\n",
       "    <tr>\n",
       "      <th>6</th>\n",
       "      <td>4</td>\n",
       "      <td>OEDTest</td>\n",
       "      <td>CX30_08</td>\n",
       "      <td>CX30_08_2</td>\n",
       "      <td>CX30_08_1</td>\n",
       "      <td>1</td>\n",
       "      <td>0</td>\n",
       "      <td>37500000.0</td>\n",
       "      <td>36750000.0</td>\n",
       "      <td>29650000.0</td>\n",
       "    </tr>\n",
       "    <tr>\n",
       "      <th>8</th>\n",
       "      <td>5</td>\n",
       "      <td>OEDTest</td>\n",
       "      <td>CX30_08</td>\n",
       "      <td>CX30_08_2</td>\n",
       "      <td>CX30_08_1</td>\n",
       "      <td>3</td>\n",
       "      <td>0</td>\n",
       "      <td>6000000.0</td>\n",
       "      <td>5880000.0</td>\n",
       "      <td>4744000.0</td>\n",
       "    </tr>\n",
       "    <tr>\n",
       "      <th>10</th>\n",
       "      <td>6</td>\n",
       "      <td>OEDTest</td>\n",
       "      <td>CX30_08</td>\n",
       "      <td>CX30_08_2</td>\n",
       "      <td>CX30_08_1</td>\n",
       "      <td>4</td>\n",
       "      <td>0</td>\n",
       "      <td>6500000.0</td>\n",
       "      <td>6370000.0</td>\n",
       "      <td>5139333.0</td>\n",
       "    </tr>\n",
       "    <tr>\n",
       "      <th>12</th>\n",
       "      <td>7</td>\n",
       "      <td>OEDTest</td>\n",
       "      <td>CX30_08</td>\n",
       "      <td>CX30_08_3</td>\n",
       "      <td>CX30_08_1</td>\n",
       "      <td>1</td>\n",
       "      <td>0</td>\n",
       "      <td>37500000.0</td>\n",
       "      <td>36750000.0</td>\n",
       "      <td>36750000.0</td>\n",
       "    </tr>\n",
       "    <tr>\n",
       "      <th>14</th>\n",
       "      <td>8</td>\n",
       "      <td>OEDTest</td>\n",
       "      <td>CX30_08</td>\n",
       "      <td>CX30_08_3</td>\n",
       "      <td>CX30_08_1</td>\n",
       "      <td>3</td>\n",
       "      <td>0</td>\n",
       "      <td>6000000.0</td>\n",
       "      <td>5880000.0</td>\n",
       "      <td>5880000.0</td>\n",
       "    </tr>\n",
       "    <tr>\n",
       "      <th>16</th>\n",
       "      <td>9</td>\n",
       "      <td>OEDTest</td>\n",
       "      <td>CX30_08</td>\n",
       "      <td>CX30_08_3</td>\n",
       "      <td>CX30_08_1</td>\n",
       "      <td>4</td>\n",
       "      <td>0</td>\n",
       "      <td>6500000.0</td>\n",
       "      <td>6370000.0</td>\n",
       "      <td>6370000.0</td>\n",
       "    </tr>\n",
       "    <tr>\n",
       "      <th>18</th>\n",
       "      <td>10</td>\n",
       "      <td>OEDTest</td>\n",
       "      <td>CX30_08</td>\n",
       "      <td>CX30_08_4</td>\n",
       "      <td>CX30_08_1</td>\n",
       "      <td>1</td>\n",
       "      <td>0</td>\n",
       "      <td>37500000.0</td>\n",
       "      <td>36750000.0</td>\n",
       "      <td>36750000.0</td>\n",
       "    </tr>\n",
       "    <tr>\n",
       "      <th>20</th>\n",
       "      <td>11</td>\n",
       "      <td>OEDTest</td>\n",
       "      <td>CX30_08</td>\n",
       "      <td>CX30_08_4</td>\n",
       "      <td>CX30_08_1</td>\n",
       "      <td>3</td>\n",
       "      <td>0</td>\n",
       "      <td>6000000.0</td>\n",
       "      <td>5880000.0</td>\n",
       "      <td>5880000.0</td>\n",
       "    </tr>\n",
       "    <tr>\n",
       "      <th>22</th>\n",
       "      <td>12</td>\n",
       "      <td>OEDTest</td>\n",
       "      <td>CX30_08</td>\n",
       "      <td>CX30_08_4</td>\n",
       "      <td>CX30_08_1</td>\n",
       "      <td>4</td>\n",
       "      <td>0</td>\n",
       "      <td>6500000.0</td>\n",
       "      <td>6370000.0</td>\n",
       "      <td>6370000.0</td>\n",
       "    </tr>\n",
       "    <tr>\n",
       "      <th>24</th>\n",
       "      <td>13</td>\n",
       "      <td>OEDTest</td>\n",
       "      <td>CX30_09</td>\n",
       "      <td>CX30_09_1</td>\n",
       "      <td>CX30_09_1</td>\n",
       "      <td>1</td>\n",
       "      <td>0</td>\n",
       "      <td>37500000.0</td>\n",
       "      <td>18375000.0</td>\n",
       "      <td>14825000.0</td>\n",
       "    </tr>\n",
       "    <tr>\n",
       "      <th>26</th>\n",
       "      <td>14</td>\n",
       "      <td>OEDTest</td>\n",
       "      <td>CX30_09</td>\n",
       "      <td>CX30_09_1</td>\n",
       "      <td>CX30_09_1</td>\n",
       "      <td>3</td>\n",
       "      <td>0</td>\n",
       "      <td>6000000.0</td>\n",
       "      <td>2940000.0</td>\n",
       "      <td>2372000.0</td>\n",
       "    </tr>\n",
       "    <tr>\n",
       "      <th>28</th>\n",
       "      <td>15</td>\n",
       "      <td>OEDTest</td>\n",
       "      <td>CX30_09</td>\n",
       "      <td>CX30_09_1</td>\n",
       "      <td>CX30_09_1</td>\n",
       "      <td>4</td>\n",
       "      <td>0</td>\n",
       "      <td>6500000.0</td>\n",
       "      <td>3185000.0</td>\n",
       "      <td>2569666.5</td>\n",
       "    </tr>\n",
       "    <tr>\n",
       "      <th>30</th>\n",
       "      <td>16</td>\n",
       "      <td>OEDTest</td>\n",
       "      <td>CX30_09</td>\n",
       "      <td>CX30_09_2</td>\n",
       "      <td>CX30_09_1</td>\n",
       "      <td>1</td>\n",
       "      <td>0</td>\n",
       "      <td>37500000.0</td>\n",
       "      <td>18375000.0</td>\n",
       "      <td>14825000.0</td>\n",
       "    </tr>\n",
       "    <tr>\n",
       "      <th>32</th>\n",
       "      <td>17</td>\n",
       "      <td>OEDTest</td>\n",
       "      <td>CX30_09</td>\n",
       "      <td>CX30_09_2</td>\n",
       "      <td>CX30_09_1</td>\n",
       "      <td>3</td>\n",
       "      <td>0</td>\n",
       "      <td>6000000.0</td>\n",
       "      <td>2940000.0</td>\n",
       "      <td>2372000.0</td>\n",
       "    </tr>\n",
       "    <tr>\n",
       "      <th>34</th>\n",
       "      <td>18</td>\n",
       "      <td>OEDTest</td>\n",
       "      <td>CX30_09</td>\n",
       "      <td>CX30_09_2</td>\n",
       "      <td>CX30_09_1</td>\n",
       "      <td>4</td>\n",
       "      <td>0</td>\n",
       "      <td>6500000.0</td>\n",
       "      <td>3185000.0</td>\n",
       "      <td>2569666.5</td>\n",
       "    </tr>\n",
       "    <tr>\n",
       "      <th>36</th>\n",
       "      <td>19</td>\n",
       "      <td>OEDTest</td>\n",
       "      <td>SS01_04</td>\n",
       "      <td>SS01_04_1</td>\n",
       "      <td>SS01_04_1</td>\n",
       "      <td>1</td>\n",
       "      <td>0</td>\n",
       "      <td>37500000.0</td>\n",
       "      <td>36750000.0</td>\n",
       "      <td>36750000.0</td>\n",
       "    </tr>\n",
       "    <tr>\n",
       "      <th>38</th>\n",
       "      <td>20</td>\n",
       "      <td>OEDTest</td>\n",
       "      <td>SS01_04</td>\n",
       "      <td>SS01_04_1</td>\n",
       "      <td>SS01_04_1</td>\n",
       "      <td>3</td>\n",
       "      <td>0</td>\n",
       "      <td>6000000.0</td>\n",
       "      <td>5880000.0</td>\n",
       "      <td>5880000.0</td>\n",
       "    </tr>\n",
       "    <tr>\n",
       "      <th>40</th>\n",
       "      <td>21</td>\n",
       "      <td>OEDTest</td>\n",
       "      <td>SS01_04</td>\n",
       "      <td>SS01_04_1</td>\n",
       "      <td>SS01_04_1</td>\n",
       "      <td>4</td>\n",
       "      <td>0</td>\n",
       "      <td>6500000.0</td>\n",
       "      <td>6370000.0</td>\n",
       "      <td>6370000.0</td>\n",
       "    </tr>\n",
       "    <tr>\n",
       "      <th>42</th>\n",
       "      <td>22</td>\n",
       "      <td>OEDTest</td>\n",
       "      <td>SS01_04</td>\n",
       "      <td>SS01_04_2</td>\n",
       "      <td>SS01_04_1</td>\n",
       "      <td>1</td>\n",
       "      <td>0</td>\n",
       "      <td>37500000.0</td>\n",
       "      <td>36750000.0</td>\n",
       "      <td>36750000.0</td>\n",
       "    </tr>\n",
       "    <tr>\n",
       "      <th>44</th>\n",
       "      <td>23</td>\n",
       "      <td>OEDTest</td>\n",
       "      <td>SS01_04</td>\n",
       "      <td>SS01_04_2</td>\n",
       "      <td>SS01_04_1</td>\n",
       "      <td>3</td>\n",
       "      <td>0</td>\n",
       "      <td>6000000.0</td>\n",
       "      <td>5880000.0</td>\n",
       "      <td>5880000.0</td>\n",
       "    </tr>\n",
       "    <tr>\n",
       "      <th>46</th>\n",
       "      <td>24</td>\n",
       "      <td>OEDTest</td>\n",
       "      <td>SS01_04</td>\n",
       "      <td>SS01_04_2</td>\n",
       "      <td>SS01_04_1</td>\n",
       "      <td>4</td>\n",
       "      <td>0</td>\n",
       "      <td>6500000.0</td>\n",
       "      <td>6370000.0</td>\n",
       "      <td>6370000.0</td>\n",
       "    </tr>\n",
       "  </tbody>\n",
       "</table>\n",
       "</div>"
      ],
      "text/plain": [
       "    output_id portnumber accnumber  locnumber  polnumber  coverage_type_id  loss_factor_idx    loss_gul     loss_il     loss_ri\n",
       "0           1    OEDTest   CX30_08  CX30_08_1  CX30_08_1                 1                0  37500000.0  36750000.0  29650000.0\n",
       "2           2    OEDTest   CX30_08  CX30_08_1  CX30_08_1                 3                0   6000000.0   5880000.0   4744000.0\n",
       "4           3    OEDTest   CX30_08  CX30_08_1  CX30_08_1                 4                0   6500000.0   6370000.0   5139333.0\n",
       "6           4    OEDTest   CX30_08  CX30_08_2  CX30_08_1                 1                0  37500000.0  36750000.0  29650000.0\n",
       "8           5    OEDTest   CX30_08  CX30_08_2  CX30_08_1                 3                0   6000000.0   5880000.0   4744000.0\n",
       "10          6    OEDTest   CX30_08  CX30_08_2  CX30_08_1                 4                0   6500000.0   6370000.0   5139333.0\n",
       "12          7    OEDTest   CX30_08  CX30_08_3  CX30_08_1                 1                0  37500000.0  36750000.0  36750000.0\n",
       "14          8    OEDTest   CX30_08  CX30_08_3  CX30_08_1                 3                0   6000000.0   5880000.0   5880000.0\n",
       "16          9    OEDTest   CX30_08  CX30_08_3  CX30_08_1                 4                0   6500000.0   6370000.0   6370000.0\n",
       "18         10    OEDTest   CX30_08  CX30_08_4  CX30_08_1                 1                0  37500000.0  36750000.0  36750000.0\n",
       "20         11    OEDTest   CX30_08  CX30_08_4  CX30_08_1                 3                0   6000000.0   5880000.0   5880000.0\n",
       "22         12    OEDTest   CX30_08  CX30_08_4  CX30_08_1                 4                0   6500000.0   6370000.0   6370000.0\n",
       "24         13    OEDTest   CX30_09  CX30_09_1  CX30_09_1                 1                0  37500000.0  18375000.0  14825000.0\n",
       "26         14    OEDTest   CX30_09  CX30_09_1  CX30_09_1                 3                0   6000000.0   2940000.0   2372000.0\n",
       "28         15    OEDTest   CX30_09  CX30_09_1  CX30_09_1                 4                0   6500000.0   3185000.0   2569666.5\n",
       "30         16    OEDTest   CX30_09  CX30_09_2  CX30_09_1                 1                0  37500000.0  18375000.0  14825000.0\n",
       "32         17    OEDTest   CX30_09  CX30_09_2  CX30_09_1                 3                0   6000000.0   2940000.0   2372000.0\n",
       "34         18    OEDTest   CX30_09  CX30_09_2  CX30_09_1                 4                0   6500000.0   3185000.0   2569666.5\n",
       "36         19    OEDTest   SS01_04  SS01_04_1  SS01_04_1                 1                0  37500000.0  36750000.0  36750000.0\n",
       "38         20    OEDTest   SS01_04  SS01_04_1  SS01_04_1                 3                0   6000000.0   5880000.0   5880000.0\n",
       "40         21    OEDTest   SS01_04  SS01_04_1  SS01_04_1                 4                0   6500000.0   6370000.0   6370000.0\n",
       "42         22    OEDTest   SS01_04  SS01_04_2  SS01_04_1                 1                0  37500000.0  36750000.0  36750000.0\n",
       "44         23    OEDTest   SS01_04  SS01_04_2  SS01_04_1                 3                0   6000000.0   5880000.0   5880000.0\n",
       "46         24    OEDTest   SS01_04  SS01_04_2  SS01_04_1                 4                0   6500000.0   6370000.0   6370000.0"
      ]
     },
     "metadata": {},
     "output_type": "display_data"
    },
    {
     "data": {
      "text/markdown": [
       "### Loss Factor 100 %"
      ],
      "text/plain": [
       "<IPython.core.display.Markdown object>"
      ]
     },
     "metadata": {},
     "output_type": "display_data"
    },
    {
     "data": {
      "text/markdown": [
       "**Total gul** = 800000000.0"
      ],
      "text/plain": [
       "<IPython.core.display.Markdown object>"
      ]
     },
     "metadata": {},
     "output_type": "display_data"
    },
    {
     "data": {
      "text/markdown": [
       "**Total il** = 693000000.0"
      ],
      "text/plain": [
       "<IPython.core.display.Markdown object>"
      ]
     },
     "metadata": {},
     "output_type": "display_data"
    },
    {
     "data": {
      "text/markdown": [
       "**Total ri ceded** = 0.0"
      ],
      "text/plain": [
       "<IPython.core.display.Markdown object>"
      ]
     },
     "metadata": {},
     "output_type": "display_data"
    },
    {
     "data": {
      "text/html": [
       "<div>\n",
       "<style scoped>\n",
       "    .dataframe tbody tr th:only-of-type {\n",
       "        vertical-align: middle;\n",
       "    }\n",
       "\n",
       "    .dataframe tbody tr th {\n",
       "        vertical-align: top;\n",
       "    }\n",
       "\n",
       "    .dataframe thead th {\n",
       "        text-align: right;\n",
       "    }\n",
       "</style>\n",
       "<table border=\"1\" class=\"dataframe\">\n",
       "  <thead>\n",
       "    <tr style=\"text-align: right;\">\n",
       "      <th></th>\n",
       "      <th>output_id</th>\n",
       "      <th>portnumber</th>\n",
       "      <th>accnumber</th>\n",
       "      <th>locnumber</th>\n",
       "      <th>polnumber</th>\n",
       "      <th>coverage_type_id</th>\n",
       "      <th>loss_factor_idx</th>\n",
       "      <th>loss_gul</th>\n",
       "      <th>loss_il</th>\n",
       "      <th>loss_ri</th>\n",
       "    </tr>\n",
       "  </thead>\n",
       "  <tbody>\n",
       "    <tr>\n",
       "      <th>1</th>\n",
       "      <td>1</td>\n",
       "      <td>OEDTest</td>\n",
       "      <td>CX30_08</td>\n",
       "      <td>CX30_08_1</td>\n",
       "      <td>CX30_08_1</td>\n",
       "      <td>1</td>\n",
       "      <td>1</td>\n",
       "      <td>75000000.0</td>\n",
       "      <td>74250000.0</td>\n",
       "      <td>0.0</td>\n",
       "    </tr>\n",
       "    <tr>\n",
       "      <th>3</th>\n",
       "      <td>2</td>\n",
       "      <td>OEDTest</td>\n",
       "      <td>CX30_08</td>\n",
       "      <td>CX30_08_1</td>\n",
       "      <td>CX30_08_1</td>\n",
       "      <td>3</td>\n",
       "      <td>1</td>\n",
       "      <td>12000000.0</td>\n",
       "      <td>11880000.0</td>\n",
       "      <td>0.0</td>\n",
       "    </tr>\n",
       "    <tr>\n",
       "      <th>5</th>\n",
       "      <td>3</td>\n",
       "      <td>OEDTest</td>\n",
       "      <td>CX30_08</td>\n",
       "      <td>CX30_08_1</td>\n",
       "      <td>CX30_08_1</td>\n",
       "      <td>4</td>\n",
       "      <td>1</td>\n",
       "      <td>13000000.0</td>\n",
       "      <td>12870000.0</td>\n",
       "      <td>0.0</td>\n",
       "    </tr>\n",
       "    <tr>\n",
       "      <th>7</th>\n",
       "      <td>4</td>\n",
       "      <td>OEDTest</td>\n",
       "      <td>CX30_08</td>\n",
       "      <td>CX30_08_2</td>\n",
       "      <td>CX30_08_1</td>\n",
       "      <td>1</td>\n",
       "      <td>1</td>\n",
       "      <td>75000000.0</td>\n",
       "      <td>74250000.0</td>\n",
       "      <td>0.0</td>\n",
       "    </tr>\n",
       "    <tr>\n",
       "      <th>9</th>\n",
       "      <td>5</td>\n",
       "      <td>OEDTest</td>\n",
       "      <td>CX30_08</td>\n",
       "      <td>CX30_08_2</td>\n",
       "      <td>CX30_08_1</td>\n",
       "      <td>3</td>\n",
       "      <td>1</td>\n",
       "      <td>12000000.0</td>\n",
       "      <td>11880000.0</td>\n",
       "      <td>0.0</td>\n",
       "    </tr>\n",
       "    <tr>\n",
       "      <th>11</th>\n",
       "      <td>6</td>\n",
       "      <td>OEDTest</td>\n",
       "      <td>CX30_08</td>\n",
       "      <td>CX30_08_2</td>\n",
       "      <td>CX30_08_1</td>\n",
       "      <td>4</td>\n",
       "      <td>1</td>\n",
       "      <td>13000000.0</td>\n",
       "      <td>12870000.0</td>\n",
       "      <td>0.0</td>\n",
       "    </tr>\n",
       "    <tr>\n",
       "      <th>13</th>\n",
       "      <td>7</td>\n",
       "      <td>OEDTest</td>\n",
       "      <td>CX30_08</td>\n",
       "      <td>CX30_08_3</td>\n",
       "      <td>CX30_08_1</td>\n",
       "      <td>1</td>\n",
       "      <td>1</td>\n",
       "      <td>75000000.0</td>\n",
       "      <td>74250000.0</td>\n",
       "      <td>0.0</td>\n",
       "    </tr>\n",
       "    <tr>\n",
       "      <th>15</th>\n",
       "      <td>8</td>\n",
       "      <td>OEDTest</td>\n",
       "      <td>CX30_08</td>\n",
       "      <td>CX30_08_3</td>\n",
       "      <td>CX30_08_1</td>\n",
       "      <td>3</td>\n",
       "      <td>1</td>\n",
       "      <td>12000000.0</td>\n",
       "      <td>11880000.0</td>\n",
       "      <td>0.0</td>\n",
       "    </tr>\n",
       "    <tr>\n",
       "      <th>17</th>\n",
       "      <td>9</td>\n",
       "      <td>OEDTest</td>\n",
       "      <td>CX30_08</td>\n",
       "      <td>CX30_08_3</td>\n",
       "      <td>CX30_08_1</td>\n",
       "      <td>4</td>\n",
       "      <td>1</td>\n",
       "      <td>13000000.0</td>\n",
       "      <td>12870000.0</td>\n",
       "      <td>0.0</td>\n",
       "    </tr>\n",
       "    <tr>\n",
       "      <th>19</th>\n",
       "      <td>10</td>\n",
       "      <td>OEDTest</td>\n",
       "      <td>CX30_08</td>\n",
       "      <td>CX30_08_4</td>\n",
       "      <td>CX30_08_1</td>\n",
       "      <td>1</td>\n",
       "      <td>1</td>\n",
       "      <td>75000000.0</td>\n",
       "      <td>74250000.0</td>\n",
       "      <td>0.0</td>\n",
       "    </tr>\n",
       "    <tr>\n",
       "      <th>21</th>\n",
       "      <td>11</td>\n",
       "      <td>OEDTest</td>\n",
       "      <td>CX30_08</td>\n",
       "      <td>CX30_08_4</td>\n",
       "      <td>CX30_08_1</td>\n",
       "      <td>3</td>\n",
       "      <td>1</td>\n",
       "      <td>12000000.0</td>\n",
       "      <td>11880000.0</td>\n",
       "      <td>0.0</td>\n",
       "    </tr>\n",
       "    <tr>\n",
       "      <th>23</th>\n",
       "      <td>12</td>\n",
       "      <td>OEDTest</td>\n",
       "      <td>CX30_08</td>\n",
       "      <td>CX30_08_4</td>\n",
       "      <td>CX30_08_1</td>\n",
       "      <td>4</td>\n",
       "      <td>1</td>\n",
       "      <td>13000000.0</td>\n",
       "      <td>12870000.0</td>\n",
       "      <td>0.0</td>\n",
       "    </tr>\n",
       "    <tr>\n",
       "      <th>25</th>\n",
       "      <td>13</td>\n",
       "      <td>OEDTest</td>\n",
       "      <td>CX30_09</td>\n",
       "      <td>CX30_09_1</td>\n",
       "      <td>CX30_09_1</td>\n",
       "      <td>1</td>\n",
       "      <td>1</td>\n",
       "      <td>75000000.0</td>\n",
       "      <td>37125000.0</td>\n",
       "      <td>0.0</td>\n",
       "    </tr>\n",
       "    <tr>\n",
       "      <th>27</th>\n",
       "      <td>14</td>\n",
       "      <td>OEDTest</td>\n",
       "      <td>CX30_09</td>\n",
       "      <td>CX30_09_1</td>\n",
       "      <td>CX30_09_1</td>\n",
       "      <td>3</td>\n",
       "      <td>1</td>\n",
       "      <td>12000000.0</td>\n",
       "      <td>5940000.0</td>\n",
       "      <td>0.0</td>\n",
       "    </tr>\n",
       "    <tr>\n",
       "      <th>29</th>\n",
       "      <td>15</td>\n",
       "      <td>OEDTest</td>\n",
       "      <td>CX30_09</td>\n",
       "      <td>CX30_09_1</td>\n",
       "      <td>CX30_09_1</td>\n",
       "      <td>4</td>\n",
       "      <td>1</td>\n",
       "      <td>13000000.0</td>\n",
       "      <td>6435000.0</td>\n",
       "      <td>0.0</td>\n",
       "    </tr>\n",
       "    <tr>\n",
       "      <th>31</th>\n",
       "      <td>16</td>\n",
       "      <td>OEDTest</td>\n",
       "      <td>CX30_09</td>\n",
       "      <td>CX30_09_2</td>\n",
       "      <td>CX30_09_1</td>\n",
       "      <td>1</td>\n",
       "      <td>1</td>\n",
       "      <td>75000000.0</td>\n",
       "      <td>37125000.0</td>\n",
       "      <td>0.0</td>\n",
       "    </tr>\n",
       "    <tr>\n",
       "      <th>33</th>\n",
       "      <td>17</td>\n",
       "      <td>OEDTest</td>\n",
       "      <td>CX30_09</td>\n",
       "      <td>CX30_09_2</td>\n",
       "      <td>CX30_09_1</td>\n",
       "      <td>3</td>\n",
       "      <td>1</td>\n",
       "      <td>12000000.0</td>\n",
       "      <td>5940000.0</td>\n",
       "      <td>0.0</td>\n",
       "    </tr>\n",
       "    <tr>\n",
       "      <th>35</th>\n",
       "      <td>18</td>\n",
       "      <td>OEDTest</td>\n",
       "      <td>CX30_09</td>\n",
       "      <td>CX30_09_2</td>\n",
       "      <td>CX30_09_1</td>\n",
       "      <td>4</td>\n",
       "      <td>1</td>\n",
       "      <td>13000000.0</td>\n",
       "      <td>6435000.0</td>\n",
       "      <td>0.0</td>\n",
       "    </tr>\n",
       "    <tr>\n",
       "      <th>37</th>\n",
       "      <td>19</td>\n",
       "      <td>OEDTest</td>\n",
       "      <td>SS01_04</td>\n",
       "      <td>SS01_04_1</td>\n",
       "      <td>SS01_04_1</td>\n",
       "      <td>1</td>\n",
       "      <td>1</td>\n",
       "      <td>75000000.0</td>\n",
       "      <td>74250000.0</td>\n",
       "      <td>0.0</td>\n",
       "    </tr>\n",
       "    <tr>\n",
       "      <th>39</th>\n",
       "      <td>20</td>\n",
       "      <td>OEDTest</td>\n",
       "      <td>SS01_04</td>\n",
       "      <td>SS01_04_1</td>\n",
       "      <td>SS01_04_1</td>\n",
       "      <td>3</td>\n",
       "      <td>1</td>\n",
       "      <td>12000000.0</td>\n",
       "      <td>11880000.0</td>\n",
       "      <td>0.0</td>\n",
       "    </tr>\n",
       "    <tr>\n",
       "      <th>41</th>\n",
       "      <td>21</td>\n",
       "      <td>OEDTest</td>\n",
       "      <td>SS01_04</td>\n",
       "      <td>SS01_04_1</td>\n",
       "      <td>SS01_04_1</td>\n",
       "      <td>4</td>\n",
       "      <td>1</td>\n",
       "      <td>13000000.0</td>\n",
       "      <td>12870000.0</td>\n",
       "      <td>0.0</td>\n",
       "    </tr>\n",
       "    <tr>\n",
       "      <th>43</th>\n",
       "      <td>22</td>\n",
       "      <td>OEDTest</td>\n",
       "      <td>SS01_04</td>\n",
       "      <td>SS01_04_2</td>\n",
       "      <td>SS01_04_1</td>\n",
       "      <td>1</td>\n",
       "      <td>1</td>\n",
       "      <td>75000000.0</td>\n",
       "      <td>74250000.0</td>\n",
       "      <td>0.0</td>\n",
       "    </tr>\n",
       "    <tr>\n",
       "      <th>45</th>\n",
       "      <td>23</td>\n",
       "      <td>OEDTest</td>\n",
       "      <td>SS01_04</td>\n",
       "      <td>SS01_04_2</td>\n",
       "      <td>SS01_04_1</td>\n",
       "      <td>3</td>\n",
       "      <td>1</td>\n",
       "      <td>12000000.0</td>\n",
       "      <td>11880000.0</td>\n",
       "      <td>0.0</td>\n",
       "    </tr>\n",
       "    <tr>\n",
       "      <th>47</th>\n",
       "      <td>24</td>\n",
       "      <td>OEDTest</td>\n",
       "      <td>SS01_04</td>\n",
       "      <td>SS01_04_2</td>\n",
       "      <td>SS01_04_1</td>\n",
       "      <td>4</td>\n",
       "      <td>1</td>\n",
       "      <td>13000000.0</td>\n",
       "      <td>12870000.0</td>\n",
       "      <td>0.0</td>\n",
       "    </tr>\n",
       "  </tbody>\n",
       "</table>\n",
       "</div>"
      ],
      "text/plain": [
       "    output_id portnumber accnumber  locnumber  polnumber  coverage_type_id  loss_factor_idx    loss_gul     loss_il  loss_ri\n",
       "1           1    OEDTest   CX30_08  CX30_08_1  CX30_08_1                 1                1  75000000.0  74250000.0      0.0\n",
       "3           2    OEDTest   CX30_08  CX30_08_1  CX30_08_1                 3                1  12000000.0  11880000.0      0.0\n",
       "5           3    OEDTest   CX30_08  CX30_08_1  CX30_08_1                 4                1  13000000.0  12870000.0      0.0\n",
       "7           4    OEDTest   CX30_08  CX30_08_2  CX30_08_1                 1                1  75000000.0  74250000.0      0.0\n",
       "9           5    OEDTest   CX30_08  CX30_08_2  CX30_08_1                 3                1  12000000.0  11880000.0      0.0\n",
       "11          6    OEDTest   CX30_08  CX30_08_2  CX30_08_1                 4                1  13000000.0  12870000.0      0.0\n",
       "13          7    OEDTest   CX30_08  CX30_08_3  CX30_08_1                 1                1  75000000.0  74250000.0      0.0\n",
       "15          8    OEDTest   CX30_08  CX30_08_3  CX30_08_1                 3                1  12000000.0  11880000.0      0.0\n",
       "17          9    OEDTest   CX30_08  CX30_08_3  CX30_08_1                 4                1  13000000.0  12870000.0      0.0\n",
       "19         10    OEDTest   CX30_08  CX30_08_4  CX30_08_1                 1                1  75000000.0  74250000.0      0.0\n",
       "21         11    OEDTest   CX30_08  CX30_08_4  CX30_08_1                 3                1  12000000.0  11880000.0      0.0\n",
       "23         12    OEDTest   CX30_08  CX30_08_4  CX30_08_1                 4                1  13000000.0  12870000.0      0.0\n",
       "25         13    OEDTest   CX30_09  CX30_09_1  CX30_09_1                 1                1  75000000.0  37125000.0      0.0\n",
       "27         14    OEDTest   CX30_09  CX30_09_1  CX30_09_1                 3                1  12000000.0   5940000.0      0.0\n",
       "29         15    OEDTest   CX30_09  CX30_09_1  CX30_09_1                 4                1  13000000.0   6435000.0      0.0\n",
       "31         16    OEDTest   CX30_09  CX30_09_2  CX30_09_1                 1                1  75000000.0  37125000.0      0.0\n",
       "33         17    OEDTest   CX30_09  CX30_09_2  CX30_09_1                 3                1  12000000.0   5940000.0      0.0\n",
       "35         18    OEDTest   CX30_09  CX30_09_2  CX30_09_1                 4                1  13000000.0   6435000.0      0.0\n",
       "37         19    OEDTest   SS01_04  SS01_04_1  SS01_04_1                 1                1  75000000.0  74250000.0      0.0\n",
       "39         20    OEDTest   SS01_04  SS01_04_1  SS01_04_1                 3                1  12000000.0  11880000.0      0.0\n",
       "41         21    OEDTest   SS01_04  SS01_04_1  SS01_04_1                 4                1  13000000.0  12870000.0      0.0\n",
       "43         22    OEDTest   SS01_04  SS01_04_2  SS01_04_1                 1                1  75000000.0  74250000.0      0.0\n",
       "45         23    OEDTest   SS01_04  SS01_04_2  SS01_04_1                 3                1  12000000.0  11880000.0      0.0\n",
       "47         24    OEDTest   SS01_04  SS01_04_2  SS01_04_1                 4                1  13000000.0  12870000.0      0.0"
      ]
     },
     "metadata": {},
     "output_type": "display_data"
    }
   ],
   "source": [
    "# 3. Run Deterministic Losses\n",
    "\n",
    "\n",
    "output_losses = os.path.join(run_dir, 'losses.csv')\n",
    "OasisManager().run_exposure(\n",
    "    src_dir=run_dir,\n",
    "    output_level=output_level,\n",
    "    output_file=output_losses,\n",
    "    num_subperils=number_of_subperils,\n",
    "    loss_factor=loss_factors,\n",
    "    ktools_alloc_rule_il=alloc_il,\n",
    "    ktools_alloc_rule_ri=alloc_ri,\n",
    "    net_ri=True,\n",
    "    include_loss_factor=True,\n",
    "    print_summary=False,\n",
    ")\n",
    "losses = functions.load_df(output_losses)\n",
    "for i in range(len(loss_factors)):\n",
    "    factor_losses = losses[losses.loss_factor_idx == i]\n",
    "    display(Markdown(f'### Loss Factor {loss_factors[i]*100} %'))\n",
    "    \n",
    "    display(Markdown('**Total gul** = {}'.format(\n",
    "        factor_losses.loss_gul.sum()\n",
    "    )))\n",
    "    display(Markdown('**Total il** = {}'.format(\n",
    "        factor_losses.loss_il.sum()\n",
    "    )))\n",
    "    display(Markdown('**Total ri ceded** = {}'.format(\n",
    "        factor_losses.loss_ri.sum()\n",
    "    )))\n",
    "    \n",
    "    \n",
    "    \n",
    "    display(factor_losses)\n"
   ]
  },
  {
   "cell_type": "code",
   "execution_count": null,
   "metadata": {},
   "outputs": [],
   "source": []
  },
  {
   "cell_type": "code",
   "execution_count": null,
   "metadata": {},
   "outputs": [],
   "source": []
  },
  {
   "cell_type": "code",
   "execution_count": null,
   "metadata": {},
   "outputs": [],
   "source": []
  }
 ],
 "metadata": {
  "kernelspec": {
   "display_name": "Python 3",
   "language": "python",
   "name": "python3"
  },
  "language_info": {
   "codemirror_mode": {
    "name": "ipython",
    "version": 3
   },
   "file_extension": ".py",
   "mimetype": "text/x-python",
   "name": "python",
   "nbconvert_exporter": "python",
   "pygments_lexer": "ipython3",
   "version": "3.8.5"
  }
 },
 "nbformat": 4,
 "nbformat_minor": 2
}
