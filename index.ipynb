{
 "cells": [
  {
   "cell_type": "markdown",
   "metadata": {},
   "source": [
    "# Oasis FM Testing Tool\n",
    "\n",
    "This notebook allows example insurance structures to be input in OED format and ran against the development version of the Oasis finanical engine. \n",
    "\n",
    "## Included\n",
    "\n",
    "The following terminology is defined in OED. Please visit https://github.com/Simplitium/OED for more information.\n",
    "\n"
   ]
  },
  {
   "cell_type": "markdown",
   "metadata": {},
   "source": [
    "## Input files \n",
    "\n",
    "Files must be named the following:\n",
    "\n",
    "* account.csv\n",
    "* location.csv\n",
    "* ri_info.csv\n",
    "* ri_scope.csv\n"
   ]
  },
  {
   "cell_type": "code",
   "execution_count": null,
   "metadata": {},
   "outputs": [],
   "source": [
    "# 1. Notebook and Python setup\n",
    "%config IPCompleter.greedy=True\n",
    "\n",
    "# Standard Python libraries\n",
    "import io\n",
    "import json\n",
    "import os\n",
    "import shutil\n",
    "\n",
    "# 3rd party Python libraries\n",
    "import fm_testing_tool.widgets as widgets\n",
    "import fm_testing_tool.functions as functions\n",
    "import pandas as pd\n",
    "from IPython.display import Markdown, display, Javascript\n",
    "from oasislmf.manager import OasisManager\n"
   ]
  },
  {
   "cell_type": "code",
   "execution_count": null,
   "metadata": {},
   "outputs": [],
   "source": [
    "# Upload local files into the Notebook (Optional)\n",
    "\n",
    "widgets.file_uploader('./validation/examples/uploaded')"
   ]
  },
  {
   "cell_type": "code",
   "execution_count": null,
   "metadata": {},
   "outputs": [],
   "source": [
    "# Select a validation example to run, the default value points the file upload location\n",
    "# If a variables shows a 'None' results then the s\n",
    "source_exposure = {}\n",
    "widgets.select_source_dir(source_exposure, examples_dir='./validation/examples')"
   ]
  },
  {
   "cell_type": "code",
   "execution_count": null,
   "metadata": {
    "scrolled": true
   },
   "outputs": [],
   "source": [
    "# Load source files from selected test case \n",
    "location_df =  functions.load_df(source_exposure['location_path'], required_file='location.csv')\n",
    "account_df =  functions.load_df(source_exposure['account_path'], required_file='account.csv')\n",
    "ri_info_df =  functions.load_df(source_exposure['ri_info_path'])\n",
    "ri_scope_df =  functions.load_df(source_exposure['ri_scope_path'])\n",
    "\n",
    "\n"
   ]
  },
  {
   "cell_type": "markdown",
   "metadata": {},
   "source": [
    "## Set Test Parameters "
   ]
  },
  {
   "cell_type": "code",
   "execution_count": null,
   "metadata": {},
   "outputs": [],
   "source": [
    "# Keys data \n",
    "number_of_subperils = 1\n",
    "supported_coverage_types = [1]\n",
    "\n",
    "## Edit Params \n",
    "loss_factors = [0.5, 1]\n",
    "alloc_il = 2\n",
    "alloc_ri = 3\n",
    "output_level = 'item' # valid options are 'item', 'loc', 'pol', 'acc', 'port'"
   ]
  },
  {
   "cell_type": "code",
   "execution_count": null,
   "metadata": {},
   "outputs": [],
   "source": [
    "# Running this cell will execute the entire notebook \n",
    "display(Javascript(\"Jupyter.notebook.execute_cells_below()\"))"
   ]
  },
  {
   "cell_type": "code",
   "execution_count": null,
   "metadata": {},
   "outputs": [],
   "source": [
    "# View/edit the location data.\n",
    "location_grid = widgets.show_df(location_df)\n",
    "location_grid"
   ]
  },
  {
   "cell_type": "code",
   "execution_count": null,
   "metadata": {
    "scrolled": true
   },
   "outputs": [],
   "source": [
    "# View/edit the account data. \n",
    "account_grid = widgets.show_df(account_df)\n",
    "account_grid"
   ]
  },
  {
   "cell_type": "code",
   "execution_count": null,
   "metadata": {},
   "outputs": [],
   "source": [
    "# View/edit the ri_info data (Optinal). \n",
    "if ri_info_df is not None:\n",
    "    ri_info_grid = widgets.show_df(ri_info_df)\n",
    "    ri_info_grid"
   ]
  },
  {
   "cell_type": "code",
   "execution_count": null,
   "metadata": {},
   "outputs": [],
   "source": [
    "# View/edit the ri_scope data (Optinal). \n",
    "if ri_scope_df is not None:\n",
    "    ri_scope_grid = widgets.show_df(ri_scope_df)\n",
    "    ri_scope_grid"
   ]
  },
  {
   "cell_type": "code",
   "execution_count": null,
   "metadata": {
    "scrolled": true
   },
   "outputs": [],
   "source": [
    "# 6. Pick up any edits in the grid before running the analysis\n",
    "location_df = location_grid.get_changed_df()\n",
    "account_df = account_grid.get_changed_df()\n",
    "ri_info_df = ri_info_grid.get_changed_df()\n",
    "ri_scope_df = ri_scope_grid.get_changed_df()\n",
    " \n",
    "# Store exposure and create run dir \n",
    "run_dir = os.path.join('runs', os.path.basename(source_exposure['source_dir']))\n",
    "os.makedirs(run_dir, exist_ok=True)\n",
    "\n",
    "loc_csv = os.path.join(run_dir, \"location.csv\")\n",
    "acc_csv = os.path.join(run_dir, \"account.csv\")\n",
    "info_csv = os.path.join(run_dir, \"ri_info.csv\")\n",
    "scope_csv = os.path.join(run_dir, \"ri_scope.csv\")\n",
    "\n",
    "location_df.to_csv(path_or_buf=loc_csv, encoding='utf-8', index=False)\n",
    "account_df.to_csv(path_or_buf=acc_csv, encoding='utf-8', index=False)\n",
    "ri_info_df.to_csv(path_or_buf=info_csv, encoding='utf-8', index=False)\n",
    "ri_scope_df.to_csv(path_or_buf=scope_csv, encoding='utf-8', index=False)"
   ]
  },
  {
   "cell_type": "code",
   "execution_count": null,
   "metadata": {
    "scrolled": true
   },
   "outputs": [],
   "source": [
    "# 7. Generate deterministic keys data \n",
    "\n",
    "# Parameters  \n",
    "\n",
    "\n",
    "# Generate keys file\n",
    "keys_csv = os.path.join(run_dir, \"keys.csv\")\n",
    "OasisManager().generate_keys_deterministic(\n",
    "    oed_location_csv=loc_csv,\n",
    "    keys_data_csv=keys_csv,\n",
    "    supported_oed_coverage_types=supported_coverage_types,\n",
    "    num_subperils=number_of_subperils,\n",
    ")\n",
    "\n",
    "keys_df = functions.load_df(keys_csv, required_file='keys.csv') \n",
    "keys_grid = widgets.show_df(keys_df)\n",
    "keys_grid"
   ]
  },
  {
   "cell_type": "markdown",
   "metadata": {},
   "source": [
    "## Generate Oasis files"
   ]
  },
  {
   "cell_type": "code",
   "execution_count": null,
   "metadata": {},
   "outputs": [],
   "source": [
    "## Generate Oasis files \n",
    "print(run_dir)\n",
    "print(loc_csv)\n",
    "\n",
    "# Pick up any edits in the Keys data \n",
    "keys_df = keys_grid.get_changed_df()\n",
    "keys_df.to_csv(path_or_buf=keys_csv, encoding='utf-8', index=False)\n",
    "\n",
    "# 2. Start Oasis files generation\n",
    "oasis_files = OasisManager().generate_files(\n",
    "    oasis_files_dir=run_dir + '/foo',\n",
    "    oed_location_csv=loc_csv,\n",
    "    oed_accounts_csv=acc_csv,\n",
    "    oed_info_csv=info_csv,\n",
    "    oed_scope_csv=scope_csv,\n",
    "    keys_data_csv=keys_csv,\n",
    "    disable_summarise_exposure=True,\n",
    ")"
   ]
  },
  {
   "cell_type": "code",
   "execution_count": null,
   "metadata": {},
   "outputs": [],
   "source": [
    "# Show FM items \n",
    "fm_file = 'items'\n",
    "display(Markdown(f'### {fm_file}.csv'))\n",
    "widgets.show_df(functions.load_df(oasis_files[fm_file]))\n"
   ]
  },
  {
   "cell_type": "code",
   "execution_count": null,
   "metadata": {},
   "outputs": [],
   "source": [
    "# Show FM coverages \n",
    "fm_file = 'coverages'\n",
    "display(Markdown(f'### {fm_file}.csv'))\n",
    "widgets.show_df(functions.load_df(oasis_files[fm_file]))\n"
   ]
  },
  {
   "cell_type": "code",
   "execution_count": null,
   "metadata": {},
   "outputs": [],
   "source": [
    "# Show FM fm_policytc \n",
    "fm_file = 'fm_policytc'\n",
    "display(Markdown(f'### {fm_file}.csv'))\n",
    "widgets.show_df(functions.load_df(oasis_files[fm_file]))\n"
   ]
  },
  {
   "cell_type": "code",
   "execution_count": null,
   "metadata": {},
   "outputs": [],
   "source": [
    "# Show FM fm_profile \n",
    "fm_file = 'fm_profile'\n",
    "display(Markdown(f'### {fm_file}.csv'))\n",
    "widgets.show_df(functions.load_df(oasis_files[fm_file]))\n"
   ]
  },
  {
   "cell_type": "code",
   "execution_count": null,
   "metadata": {},
   "outputs": [],
   "source": [
    "# Show FM fm_programme \n",
    "fm_file = 'fm_programme'\n",
    "display(Markdown(f'### {fm_file}.csv'))\n",
    "widgets.show_df(functions.load_df(oasis_files[fm_file]))\n"
   ]
  },
  {
   "cell_type": "markdown",
   "metadata": {},
   "source": [
    "## Generate Losses \n"
   ]
  },
  {
   "cell_type": "code",
   "execution_count": null,
   "metadata": {},
   "outputs": [],
   "source": [
    "# 3. Run Deterministic Losses\n",
    "\n",
    "\n",
    "output_losses = os.path.join(run_dir, 'losses.csv')\n",
    "OasisManager().run_exposure(\n",
    "    src_dir=run_dir,\n",
    "    output_level=output_level,\n",
    "    output_file=output_losses,\n",
    "    num_subperils=number_of_subperils,\n",
    "    loss_factor=loss_factors,\n",
    "    ktools_alloc_rule_il=alloc_il,\n",
    "    ktools_alloc_rule_ri=alloc_ri,\n",
    "    net_ri=True,\n",
    "    include_loss_factor=True,\n",
    "    print_summary=False,\n",
    "    disable_summarise_exposure=True,\n",
    ")\n",
    "losses = functions.load_df(output_losses)\n",
    "for i in range(len(loss_factors)):\n",
    "    factor_losses = losses[losses.loss_factor_idx == i]\n",
    "    display(Markdown(f'### Loss Factor {loss_factors[i]*100} %'))\n",
    "    \n",
    "    display(Markdown('**Total gul** = {}'.format(\n",
    "        factor_losses.loss_gul.sum()\n",
    "    )))\n",
    "    display(Markdown('**Total il** = {}'.format(\n",
    "        factor_losses.loss_il.sum()\n",
    "    )))\n",
    "    display(Markdown('**Total ri ceded** = {}'.format(\n",
    "        factor_losses.loss_ri.sum()\n",
    "    )))\n",
    "    \n",
    "    \n",
    "    \n",
    "    display(factor_losses)\n"
   ]
  },
  {
   "cell_type": "code",
   "execution_count": null,
   "metadata": {},
   "outputs": [],
   "source": []
  },
  {
   "cell_type": "code",
   "execution_count": null,
   "metadata": {},
   "outputs": [],
   "source": []
  },
  {
   "cell_type": "code",
   "execution_count": null,
   "metadata": {},
   "outputs": [],
   "source": []
  }
 ],
 "metadata": {
  "kernelspec": {
   "display_name": "Python 3",
   "language": "python",
   "name": "python3"
  },
  "language_info": {
   "codemirror_mode": {
    "name": "ipython",
    "version": 3
   },
   "file_extension": ".py",
   "mimetype": "text/x-python",
   "name": "python",
   "nbconvert_exporter": "python",
   "pygments_lexer": "ipython3",
   "version": "3.8.2"
  }
 },
 "nbformat": 4,
 "nbformat_minor": 2
}
